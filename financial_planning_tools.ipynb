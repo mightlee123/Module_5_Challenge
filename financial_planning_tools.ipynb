{
 "cells": [
  {
   "cell_type": "markdown",
   "metadata": {},
   "source": [
    "# Financial Planning with APIs and Simulations\n",
    "\n",
    "In this Challenge, you’ll create two financial analysis tools by using a single Jupyter notebook:\n",
    "\n",
    "Part 1: A financial planner for emergencies. The members will be able to use this tool to visualize their current savings. The members can then determine if they have enough reserves for an emergency fund.\n",
    "\n",
    "Part 2: A financial planner for retirement. This tool will forecast the performance of their retirement portfolio in 30 years. To do this, the tool will make an Alpaca API call via the Alpaca SDK to get historical price data for use in Monte Carlo simulations.\n",
    "\n",
    "You’ll use the information from the Monte Carlo simulation to answer questions about the portfolio in your Jupyter notebook.\n",
    "\n"
   ]
  },
  {
   "cell_type": "code",
   "execution_count": 50,
   "metadata": {},
   "outputs": [],
   "source": [
    "# Import the required libraries and dependencies\n",
    "import os\n",
    "import requests\n",
    "import json\n",
    "import pandas as pd\n",
    "from dotenv import load_dotenv\n",
    "import alpaca_trade_api as tradeapi\n",
    "from MCForecastTools import MCSimulation\n",
    "import datetime as datetime\n",
    "\n",
    "\n",
    "%matplotlib inline"
   ]
  },
  {
   "cell_type": "code",
   "execution_count": 3,
   "metadata": {},
   "outputs": [
    {
     "data": {
      "text/plain": [
       "True"
      ]
     },
     "execution_count": 3,
     "metadata": {},
     "output_type": "execute_result"
    }
   ],
   "source": [
    "# Load the environment variables from the .env file\n",
    "#by calling the load_dotenv function\n",
    "load_dotenv()"
   ]
  },
  {
   "cell_type": "markdown",
   "metadata": {},
   "source": [
    "## Part 1: Create a Financial Planner for Emergencies"
   ]
  },
  {
   "cell_type": "markdown",
   "metadata": {},
   "source": [
    "### Evaluate the Cryptocurrency Wallet by Using the Requests Library\n",
    "\n",
    "In this section, you’ll determine the current value of a member’s cryptocurrency wallet. You’ll collect the current prices for the Bitcoin and Ethereum cryptocurrencies by using the Python Requests library. For the prototype, you’ll assume that the member holds the 1.2 Bitcoins (BTC) and 5.3 Ethereum coins (ETH). To do all this, complete the following steps:\n",
    "\n",
    "1. Create a variable named `monthly_income`, and set its value to `12000`.\n",
    "\n",
    "2. Use the Requests library to get the current price (in US dollars) of Bitcoin (BTC) and Ethereum (ETH) by using the API endpoints that the starter code supplies.\n",
    "\n",
    "3. Navigate the JSON response object to access the current price of each coin, and store each in a variable.\n",
    "\n",
    "    > **Hint** Note the specific identifier for each cryptocurrency in the API JSON response. The Bitcoin identifier is `1`, and the Ethereum identifier is `1027`.\n",
    "\n",
    "4. Calculate the value, in US dollars, of the current amount of each cryptocurrency and of the entire cryptocurrency wallet.\n",
    "\n"
   ]
  },
  {
   "cell_type": "code",
   "execution_count": 4,
   "metadata": {},
   "outputs": [],
   "source": [
    "# The current number of coins for each cryptocurrency asset held in the portfolio.\n",
    "btc_coins = 1.2\n",
    "eth_coins = 5.3"
   ]
  },
  {
   "cell_type": "markdown",
   "metadata": {},
   "source": [
    "#### Step 1: Create a variable named `monthly_income`, and set its value to `12000`."
   ]
  },
  {
   "cell_type": "code",
   "execution_count": 5,
   "metadata": {},
   "outputs": [],
   "source": [
    "# The monthly amount for the member's household income\n",
    "# YOUR CODE HERE\n",
    "monthly_income= 12000\n"
   ]
  },
  {
   "cell_type": "markdown",
   "metadata": {},
   "source": [
    "#### Review the endpoint URLs for the API calls to Free Crypto API in order to get the current pricing information for both BTC and ETH."
   ]
  },
  {
   "cell_type": "code",
   "execution_count": 6,
   "metadata": {},
   "outputs": [],
   "source": [
    "# The Free Crypto API Call endpoint URLs for the held cryptocurrency assets\n",
    "btc_url = \"https://api.alternative.me/v2/ticker/Bitcoin/?convert=USD\"\n",
    "eth_url = \"https://api.alternative.me/v2/ticker/Ethereum/?convert=USD\""
   ]
  },
  {
   "cell_type": "markdown",
   "metadata": {},
   "source": [
    "#### Step 2. Use the Requests library to get the current price (in US dollars) of Bitcoin (BTC) and Ethereum (ETH) by using the API endpoints that the starter code supplied."
   ]
  },
  {
   "cell_type": "code",
   "execution_count": 21,
   "metadata": {},
   "outputs": [
    {
     "name": "stdout",
     "output_type": "stream",
     "text": [
      "{\n",
      "    \"data\": {\n",
      "        \"1\": {\n",
      "            \"circulating_supply\": 18622825,\n",
      "            \"id\": 1,\n",
      "            \"last_updated\": 1612760574,\n",
      "            \"max_supply\": 21000000,\n",
      "            \"name\": \"Bitcoin\",\n",
      "            \"quotes\": {\n",
      "                \"USD\": {\n",
      "                    \"market_cap\": 716865910607,\n",
      "                    \"percent_change_1h\": 1.43353015505879,\n",
      "                    \"percent_change_24h\": 0.76904377433538,\n",
      "                    \"percent_change_7d\": 16.7243293030914,\n",
      "                    \"percentage_change_1h\": 1.43353015505879,\n",
      "                    \"percentage_change_24h\": 0.76904377433538,\n",
      "                    \"percentage_change_7d\": 16.7243293030914,\n",
      "                    \"price\": 38595.0,\n",
      "                    \"volume_24h\": 50644610506\n",
      "                }\n",
      "            },\n",
      "            \"rank\": 1,\n",
      "            \"symbol\": \"BTC\",\n",
      "            \"total_supply\": 18622825,\n",
      "            \"website_slug\": \"bitcoin\"\n",
      "        }\n",
      "    },\n",
      "    \"metadata\": {\n",
      "        \"error\": null,\n",
      "        \"num_cryptocurrencies\": 1366,\n",
      "        \"timestamp\": 1612760574\n",
      "    }\n",
      "}\n"
     ]
    }
   ],
   "source": [
    "# Using the Python requests library, make an API call to access the current price of BTC\n",
    "btc_response = requests.get(btc_url).json()# YOUR CODE HERE\n",
    "\n",
    "# Use the json.dumps function to review the response data from the API call\n",
    "# Use the indent and sort_keys parameters to make the response object readable\n",
    "# YOUR CODE HERE\n",
    "print(json.dumps(btc_response, indent=4,sort_keys= True))\n"
   ]
  },
  {
   "cell_type": "code",
   "execution_count": 22,
   "metadata": {},
   "outputs": [
    {
     "name": "stdout",
     "output_type": "stream",
     "text": [
      "{\n",
      "    \"data\": {\n",
      "        \"1027\": {\n",
      "            \"circulating_supply\": 114581880,\n",
      "            \"id\": 1027,\n",
      "            \"last_updated\": 1612760505,\n",
      "            \"max_supply\": 0,\n",
      "            \"name\": \"Ethereum\",\n",
      "            \"quotes\": {\n",
      "                \"USD\": {\n",
      "                    \"market_cap\": 184679690936,\n",
      "                    \"percent_change_1h\": 2.37822584478425,\n",
      "                    \"percent_change_24h\": 0.649807095428887,\n",
      "                    \"percent_change_7d\": 22.6827976943161,\n",
      "                    \"percentage_change_1h\": 2.37822584478425,\n",
      "                    \"percentage_change_24h\": 0.649807095428887,\n",
      "                    \"percentage_change_7d\": 22.6827976943161,\n",
      "                    \"price\": 1615.79,\n",
      "                    \"volume_24h\": 37341784467\n",
      "                }\n",
      "            },\n",
      "            \"rank\": 2,\n",
      "            \"symbol\": \"ETH\",\n",
      "            \"total_supply\": 114581880,\n",
      "            \"website_slug\": \"ethereum\"\n",
      "        }\n",
      "    },\n",
      "    \"metadata\": {\n",
      "        \"error\": null,\n",
      "        \"num_cryptocurrencies\": 1366,\n",
      "        \"timestamp\": 1612760505\n",
      "    }\n",
      "}\n"
     ]
    }
   ],
   "source": [
    "# Using the Python requests library, make an API call to access the current price ETH\n",
    "eth_response = requests.get(eth_url).json()# YOUR CODE HERE\n",
    "\n",
    "# Use the json.dumps function to review the response data from the API call\n",
    "# Use the indent and sort_keys parameters to make the response object readable\n",
    "# YOUR CODE HERE\n",
    "print(json.dumps(eth_response, indent=4, sort_keys= True))\n",
    "\n"
   ]
  },
  {
   "cell_type": "markdown",
   "metadata": {},
   "source": [
    "#### Step 3: Navigate the JSON response object to access the current price of each coin, and store each in a variable."
   ]
  },
  {
   "cell_type": "code",
   "execution_count": 30,
   "metadata": {},
   "outputs": [
    {
     "name": "stdout",
     "output_type": "stream",
     "text": [
      "$38595.0\n"
     ]
    }
   ],
   "source": [
    "# Navigate the BTC response object to access the current price of BTC\n",
    "btc_price = btc_response[\"data\"][\"1\"][\"quotes\"][\"USD\"][\"price\"]# YOUR CODE HERE\n",
    "\n",
    "# Print the current price of BTC\n",
    "# YOUR CODE HERE\n",
    "print(f\"${btc_price}\")"
   ]
  },
  {
   "cell_type": "code",
   "execution_count": 31,
   "metadata": {},
   "outputs": [
    {
     "name": "stdout",
     "output_type": "stream",
     "text": [
      "$1615.79\n"
     ]
    }
   ],
   "source": [
    "# Navigate the BTC response object to access the current price of ETH\n",
    "eth_price =  eth_response[\"data\"][\"1027\"][\"quotes\"][\"USD\"][\"price\"]# YOUR CODE HERE\n",
    "\n",
    "# Print the current price of ETH\n",
    "# YOUR CODE HERE\n",
    "print(f\"${eth_price}\")\n"
   ]
  },
  {
   "cell_type": "markdown",
   "metadata": {},
   "source": [
    "### Step 4: Calculate the value, in US dollars, of the current amount of each cryptocurrency and of the entire cryptocurrency wallet."
   ]
  },
  {
   "cell_type": "code",
   "execution_count": 32,
   "metadata": {},
   "outputs": [
    {
     "name": "stdout",
     "output_type": "stream",
     "text": [
      "$46314.0\n"
     ]
    }
   ],
   "source": [
    "# Compute the current value of the BTC holding \n",
    "btc_value = btc_coins * btc_price # YOUR CODE HERE\n",
    "\n",
    "# Print current value of your holding in BTC\n",
    "# YOUR CODE HERE\n",
    "print(f\"${btc_value}\")\n"
   ]
  },
  {
   "cell_type": "code",
   "execution_count": 33,
   "metadata": {},
   "outputs": [
    {
     "name": "stdout",
     "output_type": "stream",
     "text": [
      "$8563.687\n"
     ]
    }
   ],
   "source": [
    "# Compute the current value of the ETH holding \n",
    "eth_value = eth_coins * eth_price# YOUR CODE HERE\n",
    "\n",
    "# Print current value of your holding in ETH\n",
    "# YOUR CODE HERE\n",
    "print(f\"${eth_value}\")"
   ]
  },
  {
   "cell_type": "code",
   "execution_count": 34,
   "metadata": {},
   "outputs": [
    {
     "name": "stdout",
     "output_type": "stream",
     "text": [
      "$54877.687\n"
     ]
    }
   ],
   "source": [
    "# Compute the total value of the cryptocurrency wallet\n",
    "# Add the value of the BTC holding to the value of the ETH holding\n",
    "total_crypto_wallet = btc_value + eth_value# YOUR CODE HERE\n",
    "\n",
    "# Print current cryptocurrency wallet balance\n",
    "# YOUR CODE HERE\n",
    "print(f\"${total_crypto_wallet}\")"
   ]
  },
  {
   "cell_type": "markdown",
   "metadata": {},
   "source": [
    "### Evaluate the Stock and Bond Holdings by Using the Alpaca SDK\n",
    "\n",
    "In this section, you’ll determine the current value of a member’s stock and bond holdings. You’ll make an API call to Alpaca via the Alpaca SDK to get the current closing prices of the SPDR S&P 500 ETF Trust (ticker: SPY) and of the iShares Core US Aggregate Bond ETF (ticker: AGG). For the prototype, assume that the member holds 110 shares of SPY, which represents the stock portion of their portfolio, and 200 shares of AGG, which represents the bond portion. To do all this, complete the following steps:\n",
    "\n",
    "1. In the `Starter_Code` folder, create an environment file (`.env`) to store the values of your Alpaca API key and Alpaca secret key.\n",
    "\n",
    "2. Set the variables for the Alpaca API and secret keys. Using the Alpaca SDK, create the Alpaca `tradeapi.REST` object. In this object, include the parameters for the Alpaca API key, the secret key, and the version number.\n",
    "\n",
    "3. Set the following parameters for the Alpaca API call:\n",
    "\n",
    "    - `tickers`: Use the tickers for the member’s stock and bond holdings.\n",
    "\n",
    "    - `timeframe`: Use a time frame of one day.\n",
    "\n",
    "    - `start_date` and `end_date`: Use the same date for these parameters, and format them with the date of the previous weekday (or `2020-08-07`). This is because you want the one closing price for the most-recent trading day.\n",
    "\n",
    "4. Get the current closing prices for `SPY` and `AGG` by using the Alpaca `get_barset` function. Format the response as a Pandas DataFrame by including the `df` property at the end of the `get_barset` function.\n",
    "\n",
    "5. Navigating the Alpaca response DataFrame, select the `SPY` and `AGG` closing prices, and store them as variables.\n",
    "\n",
    "6. Calculate the value, in US dollars, of the current amount of shares in each of the stock and bond portions of the portfolio, and print the results.\n"
   ]
  },
  {
   "cell_type": "markdown",
   "metadata": {},
   "source": [
    "#### Review the total number of shares held in both (SPY) and (AGG)."
   ]
  },
  {
   "cell_type": "code",
   "execution_count": 65,
   "metadata": {},
   "outputs": [],
   "source": [
    "# Current amount of shares held in both the stock (SPY) and bond (AGG) portion of the portfolio.\n",
    "spy_shares = 110\n",
    "agg_shares = 200\n"
   ]
  },
  {
   "cell_type": "markdown",
   "metadata": {},
   "source": [
    "#### Step 1: In the `Starter_Code` folder, create an environment file (`.env`) to store the values of your Alpaca API key and Alpaca secret key."
   ]
  },
  {
   "cell_type": "markdown",
   "metadata": {},
   "source": [
    "#### Step 2: Set the variables for the Alpaca API and secret keys. Using the Alpaca SDK, create the Alpaca `tradeapi.REST` object. In this object, include the parameters for the Alpaca API key, the secret key, and the version number."
   ]
  },
  {
   "cell_type": "code",
   "execution_count": 36,
   "metadata": {},
   "outputs": [
    {
     "data": {
      "text/plain": [
       "str"
      ]
     },
     "metadata": {},
     "output_type": "display_data"
    },
    {
     "data": {
      "text/plain": [
       "str"
      ]
     },
     "metadata": {},
     "output_type": "display_data"
    }
   ],
   "source": [
    "# Set the variables for the Alpaca API and secret keys\n",
    "# YOUR CODE HERE\n",
    "alpaca_api_key = os.getenv(\"ALPACA_API_KEY\")\n",
    "# YOUR CODE HERE\n",
    "alpaca_secret_key = os.getenv(\"ALPACA_SECRET_KEY\")\n",
    "# Create the Alpaca tradeapi.REST object\n",
    "# YOUR CODE HERE\n",
    "alpaca = tradeapi.REST(\n",
    "    alpaca_api_key,\n",
    "    alpaca_secret_key,\n",
    "    api_version = \"v2\"\n",
    ")\n",
    "#display(type(alpaca_api_key))\n",
    "#display(type(alpaca_secret_key))"
   ]
  },
  {
   "cell_type": "markdown",
   "metadata": {},
   "source": [
    "#### Step 3: Set the following parameters for the Alpaca API call:\n",
    "\n",
    "- `tickers`: Use the tickers for the member’s stock and bond holdings.\n",
    "\n",
    "- `timeframe`: Use a time frame of one day.\n",
    "\n",
    "- `start_date` and `end_date`: Use the same date for these parameters, and format them with the date of the previous weekday (or `2020-08-07`). This is because you want the one closing price for the most-recent trading day.\n"
   ]
  },
  {
   "cell_type": "code",
   "execution_count": 55,
   "metadata": {},
   "outputs": [
    {
     "data": {
      "text/plain": [
       "('2021-02-05T00:00:00-05:00', '2021-02-05T00:00:00-05:00')"
      ]
     },
     "execution_count": 55,
     "metadata": {},
     "output_type": "execute_result"
    }
   ],
   "source": [
    "# Set the tickers for both the bond and stock portion of the portfolio\n",
    "# YOUR CODE HERE\n",
    "ticker=[\"SPY\",\"AGG\"]\n",
    "\n",
    "\n",
    "# Set timeframe to 1D \n",
    "# YOUR CODE HERE\n",
    "timeframe=\"1D\"\n",
    "\n",
    "# Format current date as ISO format\n",
    "# Set both the start and end date at the date of your prior weekday \n",
    "# This will give you the closing price of the previous trading day\n",
    "# Alternatively you can use a start and end date of 2020-08-07\n",
    "# YOUR CODE HERE\n",
    "# YOUR CODE HERE\n",
    "closing_date= str(datetime.datetime.now() - datetime.timedelta(days=2)).split()[0]\n",
    "start_date= pd.Timestamp(closing_date, tz=\"America/New_York\").isoformat()\n",
    "end_date =pd.Timestamp(closing_date, tz=\"America/New_York\").isoformat()\n",
    "start_date, end_date\n"
   ]
  },
  {
   "cell_type": "markdown",
   "metadata": {},
   "source": [
    "#### Step 4: Get the current closing prices for `SPY` and `AGG` by using the Alpaca `get_barset` function. Format the response as a Pandas DataFrame by including the `df` property at the end of the `get_barset` function."
   ]
  },
  {
   "cell_type": "code",
   "execution_count": 56,
   "metadata": {},
   "outputs": [
    {
     "data": {
      "text/html": [
       "<div>\n",
       "<style scoped>\n",
       "    .dataframe tbody tr th:only-of-type {\n",
       "        vertical-align: middle;\n",
       "    }\n",
       "\n",
       "    .dataframe tbody tr th {\n",
       "        vertical-align: top;\n",
       "    }\n",
       "\n",
       "    .dataframe thead tr th {\n",
       "        text-align: left;\n",
       "    }\n",
       "\n",
       "    .dataframe thead tr:last-of-type th {\n",
       "        text-align: right;\n",
       "    }\n",
       "</style>\n",
       "<table border=\"1\" class=\"dataframe\">\n",
       "  <thead>\n",
       "    <tr>\n",
       "      <th></th>\n",
       "      <th colspan=\"5\" halign=\"left\">AGG</th>\n",
       "      <th colspan=\"5\" halign=\"left\">SPY</th>\n",
       "    </tr>\n",
       "    <tr>\n",
       "      <th></th>\n",
       "      <th>open</th>\n",
       "      <th>high</th>\n",
       "      <th>low</th>\n",
       "      <th>close</th>\n",
       "      <th>volume</th>\n",
       "      <th>open</th>\n",
       "      <th>high</th>\n",
       "      <th>low</th>\n",
       "      <th>close</th>\n",
       "      <th>volume</th>\n",
       "    </tr>\n",
       "    <tr>\n",
       "      <th>time</th>\n",
       "      <th></th>\n",
       "      <th></th>\n",
       "      <th></th>\n",
       "      <th></th>\n",
       "      <th></th>\n",
       "      <th></th>\n",
       "      <th></th>\n",
       "      <th></th>\n",
       "      <th></th>\n",
       "      <th></th>\n",
       "    </tr>\n",
       "  </thead>\n",
       "  <tbody>\n",
       "    <tr>\n",
       "      <th>2021-02-05 00:00:00-05:00</th>\n",
       "      <td>116.91</td>\n",
       "      <td>116.96</td>\n",
       "      <td>116.7</td>\n",
       "      <td>116.72</td>\n",
       "      <td>3230833</td>\n",
       "      <td>388.2</td>\n",
       "      <td>388.47</td>\n",
       "      <td>386.1444</td>\n",
       "      <td>387.68</td>\n",
       "      <td>39312522</td>\n",
       "    </tr>\n",
       "  </tbody>\n",
       "</table>\n",
       "</div>"
      ],
      "text/plain": [
       "                              AGG                                    SPY  \\\n",
       "                             open    high    low   close   volume   open   \n",
       "time                                                                       \n",
       "2021-02-05 00:00:00-05:00  116.91  116.96  116.7  116.72  3230833  388.2   \n",
       "\n",
       "                                                               \n",
       "                             high       low   close    volume  \n",
       "time                                                           \n",
       "2021-02-05 00:00:00-05:00  388.47  386.1444  387.68  39312522  "
      ]
     },
     "execution_count": 56,
     "metadata": {},
     "output_type": "execute_result"
    }
   ],
   "source": [
    "# Use the Alpaca get_barset function to get current closing prices the portfolio\n",
    "# Be sure to set the `df` property after the function to format the response object as a DataFrame\n",
    "# YOUR CODE HERE\n",
    "price_df = alpaca.get_barset(\n",
    "    ticker,\n",
    "    timeframe,\n",
    "    start=start_date,\n",
    "    end= end_date\n",
    ").df\n",
    "# Review the first 5 rows of the Alpaca DataFrame\n",
    "# YOUR CODE HERE\n",
    "price_df.head()"
   ]
  },
  {
   "cell_type": "markdown",
   "metadata": {},
   "source": [
    "#### Step 5: Navigating the Alpaca response DataFrame, select the `SPY` and `AGG` closing prices, and store them as variables."
   ]
  },
  {
   "cell_type": "code",
   "execution_count": 62,
   "metadata": {},
   "outputs": [
    {
     "name": "stdout",
     "output_type": "stream",
     "text": [
      "$116.72\n"
     ]
    }
   ],
   "source": [
    "# Access the closing price for AGG from the Alpaca DataFrame\n",
    "# Converting the value to a floating point number\n",
    "agg_close_price = price_df[\"AGG\"][\"close\"]# YOUR CODE HERE\n",
    "agg_close_price=float(agg_close_price)\n",
    "# Print the AGG closing price\n",
    "# YOUR CODE HERE\n",
    "print(f\"${agg_close_price}\")"
   ]
  },
  {
   "cell_type": "code",
   "execution_count": 63,
   "metadata": {},
   "outputs": [
    {
     "name": "stdout",
     "output_type": "stream",
     "text": [
      "$387.68\n"
     ]
    }
   ],
   "source": [
    "# Access the closing price for SPY from the Alpaca DataFrame\n",
    "# Converting the value to a floating point number\n",
    "spy_close_price =price_df[\"SPY\"][\"close\"]# # YOUR CODE HERE\n",
    "spy_close_price=float(spy_close_price)\n",
    "# Print the SPY closing price\n",
    "# YOUR CODE HERE\n",
    "print(f\"${spy_close_price}\")\n"
   ]
  },
  {
   "cell_type": "markdown",
   "metadata": {},
   "source": [
    "#### Step 6: Calculate the value, in US dollars, of the current amount of shares in each of the stock and bond portions of the portfolio, and print the results."
   ]
  },
  {
   "cell_type": "code",
   "execution_count": 66,
   "metadata": {},
   "outputs": [
    {
     "name": "stdout",
     "output_type": "stream",
     "text": [
      "$23344.0\n"
     ]
    }
   ],
   "source": [
    "# Calculate the current value of the bond portion of the portfolio\n",
    "agg_value = agg_close_price * agg_shares# YOUR CODE HERE\n",
    "\n",
    "# Print the current value of the bond portfolio\n",
    "# YOUR CODE HERE\n",
    "print(f\"${agg_value}\")"
   ]
  },
  {
   "cell_type": "code",
   "execution_count": 67,
   "metadata": {},
   "outputs": [
    {
     "name": "stdout",
     "output_type": "stream",
     "text": [
      "$42644.8\n"
     ]
    }
   ],
   "source": [
    "# Calculate the current value of the stock portion of the portfolio\n",
    "spy_value = spy_close_price * spy_shares# YOUR CODE HERE\n",
    "\n",
    "# Print the current value of the stock portfolio\n",
    "# YOUR CODE HERE\n",
    "print(f\"${spy_value}\")"
   ]
  },
  {
   "cell_type": "code",
   "execution_count": 68,
   "metadata": {},
   "outputs": [
    {
     "name": "stdout",
     "output_type": "stream",
     "text": [
      "$65988.8\n"
     ]
    }
   ],
   "source": [
    "# Calculate the total value of the stock and bond portion of the portfolio\n",
    "total_stocks_bonds = agg_value + spy_value# YOUR CODE HERE\n",
    "\n",
    "# Print the current balance of the stock and bond portion of the portfolio\n",
    "# YOUR CODE HERE\n",
    "print(f\"${total_stocks_bonds}\")"
   ]
  },
  {
   "cell_type": "code",
   "execution_count": 69,
   "metadata": {},
   "outputs": [
    {
     "name": "stdout",
     "output_type": "stream",
     "text": [
      "$120866.487\n"
     ]
    }
   ],
   "source": [
    "# Calculate the total value of the member's entire savings portfolio\n",
    "# Add the value of the cryptocurrency walled to the value of the total stocks and bonds\n",
    "total_portfolio = total_stocks_bonds + total_crypto_wallet# YOUR CODE HERE\n",
    "\n",
    "# Print current cryptocurrency wallet balance\n",
    "# YOUR CODE HERE\n",
    "print(f\"${total_portfolio}\")"
   ]
  },
  {
   "cell_type": "markdown",
   "metadata": {},
   "source": [
    "### Evaluate the Emergency Fund\n",
    "\n",
    "In this section, you’ll use the valuations for the cryptocurrency wallet and for the stock and bond portions of the portfolio to determine if the credit union member has enough savings to build an emergency fund into their financial plan. To do this, complete the following steps:\n",
    "\n",
    "1. Create a Python list named `savings_data` that has two elements. The first element contains the total value of the cryptocurrency wallet. The second element contains the total value of the stock and bond portions of the portfolio.\n",
    "\n",
    "2. Use the `savings_data` list to create a Pandas DataFrame named `savings_df`, and then display this DataFrame. The function to create the DataFrame should take the following three parameters:\n",
    "\n",
    "    - `savings_data`: Use the list that you just created.\n",
    "\n",
    "    - `columns`: Set this parameter equal to a Python list with a single value called `amount`.\n",
    "\n",
    "    - `index`: Set this parameter equal to a Python list with the values of `crypto` and `stock/bond`.\n",
    "\n",
    "3. Use the `savings_df` DataFrame to plot a pie chart that visualizes the composition of the member’s portfolio. The y-axis of the pie chart uses `amount`. Be sure to add a title.\n",
    "\n",
    "4. Using Python, determine if the current portfolio has enough to create an emergency fund as part of the member’s financial plan. Ideally, an emergency fund should equal to three times the member’s monthly income. To do this, implement the following steps:\n",
    "\n",
    "    1. Create a variable named `emergency_fund_value`, and set it equal to three times the value of the member’s `monthly_income` of $12000. (You set this earlier in Part 1).\n",
    "\n",
    "    2. Create a series of three if statements to determine if the member’s total portfolio is large enough to fund the emergency portfolio:\n",
    "\n",
    "        1. If the total portfolio value is greater than the emergency fund value, display a message congratulating the member for having enough money in this fund.\n",
    "\n",
    "        2. Else if the total portfolio value is equal to the emergency fund value, display a message congratulating the member on reaching this important financial goal.\n",
    "\n",
    "        3. Else the total portfolio is less than the emergency fund value, so display a message showing how many dollars away the member is from reaching the goal. (Subtract the total portfolio value from the emergency fund value.)\n"
   ]
  },
  {
   "cell_type": "markdown",
   "metadata": {},
   "source": [
    "#### Step 1: Create a Python list named `savings_data` that has two elements. The first element contains the total value of the cryptocurrency wallet. The second element contains the total value of the stock and bond portions of the portfolio."
   ]
  },
  {
   "cell_type": "code",
   "execution_count": 70,
   "metadata": {},
   "outputs": [
    {
     "data": {
      "text/plain": [
       "[54877.687, 65988.8]"
      ]
     },
     "execution_count": 70,
     "metadata": {},
     "output_type": "execute_result"
    }
   ],
   "source": [
    "# Consolidate financial assets data into a Python list\n",
    "# YOUR CODE HERE\n",
    "savings_data=[total_crypto_wallet,total_stocks_bonds]\n",
    "# Review the Python list savings_data\n",
    "# YOUR CODE HERE\n",
    "savings_data"
   ]
  },
  {
   "cell_type": "markdown",
   "metadata": {},
   "source": [
    "#### Step 2: Use the `savings_data` list to create a Pandas DataFrame named `savings_df`, and then display this DataFrame. The function to create the DataFrame should take the following three parameters:\n",
    "\n",
    "- `savings_data`: Use the list that you just created.\n",
    "\n",
    "- `columns`: Set this parameter equal to a Python list with a single value called `amount`.\n",
    "\n",
    "- `index`: Set this parameter equal to a Python list with the values of `crypto` and `stock/bond`.\n"
   ]
  },
  {
   "cell_type": "code",
   "execution_count": 76,
   "metadata": {},
   "outputs": [
    {
     "data": {
      "text/html": [
       "<div>\n",
       "<style scoped>\n",
       "    .dataframe tbody tr th:only-of-type {\n",
       "        vertical-align: middle;\n",
       "    }\n",
       "\n",
       "    .dataframe tbody tr th {\n",
       "        vertical-align: top;\n",
       "    }\n",
       "\n",
       "    .dataframe thead th {\n",
       "        text-align: right;\n",
       "    }\n",
       "</style>\n",
       "<table border=\"1\" class=\"dataframe\">\n",
       "  <thead>\n",
       "    <tr style=\"text-align: right;\">\n",
       "      <th></th>\n",
       "      <th>amount</th>\n",
       "    </tr>\n",
       "  </thead>\n",
       "  <tbody>\n",
       "    <tr>\n",
       "      <th>crypto</th>\n",
       "      <td>54877.687</td>\n",
       "    </tr>\n",
       "    <tr>\n",
       "      <th>stock/bond</th>\n",
       "      <td>65988.800</td>\n",
       "    </tr>\n",
       "  </tbody>\n",
       "</table>\n",
       "</div>"
      ],
      "text/plain": [
       "               amount\n",
       "crypto      54877.687\n",
       "stock/bond  65988.800"
      ]
     },
     "execution_count": 76,
     "metadata": {},
     "output_type": "execute_result"
    }
   ],
   "source": [
    "# Create a Pandas DataFrame called savings_df \n",
    "# YOUR CODE HERE\n",
    "savings_df=pd.DataFrame(savings_data, columns= [\"amount\"], index=[\"crypto\",\"stock/bond\"] )\n",
    "# Display the savings_df DataFrame\n",
    "# YOUR CODE HERE\n",
    "savings_df"
   ]
  },
  {
   "cell_type": "markdown",
   "metadata": {},
   "source": [
    "#### Step 3: Use the `savings_df` DataFrame to plot a pie chart that visualizes the composition of the member’s portfolio. The y-axis of the pie chart uses `amount`. Be sure to add a title."
   ]
  },
  {
   "cell_type": "code",
   "execution_count": 83,
   "metadata": {},
   "outputs": [
    {
     "data": {
      "text/plain": [
       "array([<AxesSubplot:ylabel='amount'>], dtype=object)"
      ]
     },
     "execution_count": 83,
     "metadata": {},
     "output_type": "execute_result"
    },
    {
     "data": {
      "image/png": "[encoded data removed]",
      "text/plain": [
       "<Figure size 432x288 with 1 Axes>"
      ]
     },
     "metadata": {},
     "output_type": "display_data"
    }
   ],
   "source": [
    "# Plot the total value of the member's portfolio (crypto and stock/bond) in a pie chart\n",
    "# YOUR CODE HERE\n",
    "savings_df.plot.pie(subplots= True,title=\"Total Value of the Member's Portfolio\")"
   ]
  },
  {
   "cell_type": "markdown",
   "metadata": {},
   "source": [
    "#### Step 4: Using Python, determine if the current portfolio has enough to create an emergency fund as part of the member’s financial plan. Ideally, an emergency fund should equal to three times the member’s monthly income. To do this, implement the following steps:\n",
    "\n",
    "Step 1. Create a variable named `emergency_fund_value`, and set it equal to three times the value of the member’s `monthly_income` of 12000. (You set this earlier in Part 1).\n",
    "\n",
    "Step 2. Create a series of three if statements to determine if the member’s total portfolio is large enough to fund the emergency portfolio:\n",
    "\n",
    "* If the total portfolio value is greater than the emergency fund value, display a message congratulating the member for having enough money in this fund.\n",
    "\n",
    "* Else if the total portfolio value is equal to the emergency fund value, display a message congratulating the member on reaching this important financial goal.\n",
    "\n",
    "* Else the total portfolio is less than the emergency fund value, so display a message showing how many dollars away the member is from reaching the goal. (Subtract the total portfolio value from the emergency fund value.)\n"
   ]
  },
  {
   "cell_type": "markdown",
   "metadata": {},
   "source": [
    "##### Step 4-1: Create a variable named `emergency_fund_value`, and set it equal to three times the value of the member’s `monthly_income` of 12000. (You set this earlier in Part 1)."
   ]
  },
  {
   "cell_type": "code",
   "execution_count": 84,
   "metadata": {},
   "outputs": [],
   "source": [
    "# Create a variable named emergency_fund_value\n",
    "# YOUR CODE HERE\n",
    "emergency_fund_value= 3*monthly_income\n"
   ]
  },
  {
   "cell_type": "markdown",
   "metadata": {},
   "source": [
    "##### Step 4-2: Create a series of three if statements to determine if the member’s total portfolio is large enough to fund the emergency portfolio:\n",
    "\n",
    "* If the total portfolio value is greater than the emergency fund value, display a message congratulating the member for having enough money in this fund.\n",
    "\n",
    "* Else if the total portfolio value is equal to the emergency fund value, display a message congratulating the member on reaching this important financial goal.\n",
    "\n",
    "* Else the total portfolio is less than the emergency fund value, so display a message showing how many dollars away the member is from reaching the goal. (Subtract the total portfolio value from the emergency fund value.)"
   ]
  },
  {
   "cell_type": "code",
   "execution_count": 85,
   "metadata": {},
   "outputs": [
    {
     "name": "stdout",
     "output_type": "stream",
     "text": [
      "You have enough money in this funds.\n"
     ]
    }
   ],
   "source": [
    "# Evaluate the possibility of creating an emergency fund with 3 conditions:\n",
    "# YOUR CODE HERE\n",
    "if total_portfolio > emergency_fund_value:\n",
    "    print(\"You have enough money in this funds.\")\n",
    "# YOUR CODE HERE\n",
    "elif total_portfolio == emergency_fund_value:\n",
    "    print(\"You have reached the emergency fund goal\")\n",
    "# YOUR CODE HERE\n",
    "else:\n",
    "    print(f\"You are {emergency_fund_value-total_portfolio} away from your emergency fund goal.\")"
   ]
  },
  {
   "cell_type": "markdown",
   "metadata": {},
   "source": [
    "## Part 2: Create a Financial Planner for Retirement"
   ]
  },
  {
   "cell_type": "markdown",
   "metadata": {},
   "source": [
    "### Create the Monte Carlo Simulation\n",
    "\n",
    "In this section, you’ll use the MCForecastTools library to create a Monte Carlo simulation for the member’s savings portfolio. To do this, complete the following steps:\n",
    "\n",
    "1. Make an API call via the Alpaca SDK to get 10 years of historical closing prices for a traditional 60/40 portfolio split: 60% stocks (SPY) and 40% bonds (AGG).\n",
    "\n",
    "2. Run a Monte Carlo simulation of 500 samples and 30 years for the 60/40 portfolio, and then plot the results.The following image shows the overlay line plot resulting from a simulation with these characteristics. However, because a random number generator is used to run each live Monte Carlo simulation, your image will differ slightly from this exact image:\n",
    "\n",
    "![A screenshot depicts the resulting plot.](Images/5-4-monte-carlo-line-plot.png)\n",
    "\n",
    "3. Plot the probability distribution of the Monte Carlo simulation. Plot the probability distribution of the Monte Carlo simulation. The following image shows the histogram plot resulting from a simulation with these characteristics. However, because a random number generator is used to run each live Monte Carlo simulation, your image will differ slightly from this exact image:\n",
    "\n",
    "![A screenshot depicts the histogram plot.](Images/5-4-monte-carlo-histogram.png)\n",
    "\n",
    "4. Generate the summary statistics for the Monte Carlo simulation.\n",
    "\n"
   ]
  },
  {
   "cell_type": "markdown",
   "metadata": {},
   "source": [
    "#### Step 1: Make an API call via the Alpaca SDK to get 10 years of historical closing prices for a traditional 60/40 portfolio split: 60% stocks (SPY) and 40% bonds (AGG)."
   ]
  },
  {
   "cell_type": "code",
   "execution_count": 96,
   "metadata": {},
   "outputs": [
    {
     "data": {
      "text/plain": [
       "('2011-02-10T00:00:00-05:00', '2021-02-07T00:00:00-05:00')"
      ]
     },
     "execution_count": 96,
     "metadata": {},
     "output_type": "execute_result"
    }
   ],
   "source": [
    "# Set start and end dates of 10 years back from your current date\n",
    "# Alternatively, you can use an end date of 2020-08-07 and work 10 years back from that date \n",
    "# YOUR CODE HERE\n",
    "# YOUR CODE HERE\n",
    "today_date= str(datetime.datetime.now()).split()[0]\n",
    "ten_years_ago=str(datetime.datetime.now() - datetime.timedelta(days=365*10)).split()[0]\n",
    "start_date= pd.Timestamp(ten_years_ago, tz=\"America/New_York\").isoformat()\n",
    "end_date =pd.Timestamp(today_date, tz=\"America/New_York\").isoformat()\n",
    "start_date,end_date"
   ]
  },
  {
   "cell_type": "code",
   "execution_count": 100,
   "metadata": {},
   "outputs": [
    {
     "data": {
      "text/html": [
       "<div>\n",
       "<style scoped>\n",
       "    .dataframe tbody tr th:only-of-type {\n",
       "        vertical-align: middle;\n",
       "    }\n",
       "\n",
       "    .dataframe tbody tr th {\n",
       "        vertical-align: top;\n",
       "    }\n",
       "\n",
       "    .dataframe thead tr th {\n",
       "        text-align: left;\n",
       "    }\n",
       "\n",
       "    .dataframe thead tr:last-of-type th {\n",
       "        text-align: right;\n",
       "    }\n",
       "</style>\n",
       "<table border=\"1\" class=\"dataframe\">\n",
       "  <thead>\n",
       "    <tr>\n",
       "      <th></th>\n",
       "      <th colspan=\"5\" halign=\"left\">AGG</th>\n",
       "      <th colspan=\"5\" halign=\"left\">SPY</th>\n",
       "    </tr>\n",
       "    <tr>\n",
       "      <th></th>\n",
       "      <th>open</th>\n",
       "      <th>high</th>\n",
       "      <th>low</th>\n",
       "      <th>close</th>\n",
       "      <th>volume</th>\n",
       "      <th>open</th>\n",
       "      <th>high</th>\n",
       "      <th>low</th>\n",
       "      <th>close</th>\n",
       "      <th>volume</th>\n",
       "    </tr>\n",
       "    <tr>\n",
       "      <th>time</th>\n",
       "      <th></th>\n",
       "      <th></th>\n",
       "      <th></th>\n",
       "      <th></th>\n",
       "      <th></th>\n",
       "      <th></th>\n",
       "      <th></th>\n",
       "      <th></th>\n",
       "      <th></th>\n",
       "      <th></th>\n",
       "    </tr>\n",
       "  </thead>\n",
       "  <tbody>\n",
       "    <tr>\n",
       "      <th>2020-09-15 00:00:00-04:00</th>\n",
       "      <td>118.2900</td>\n",
       "      <td>118.425</td>\n",
       "      <td>118.29</td>\n",
       "      <td>118.38</td>\n",
       "      <td>3635547</td>\n",
       "      <td>341.12</td>\n",
       "      <td>342.0200</td>\n",
       "      <td>338.4683</td>\n",
       "      <td>340.15</td>\n",
       "      <td>43980284</td>\n",
       "    </tr>\n",
       "    <tr>\n",
       "      <th>2020-09-16 00:00:00-04:00</th>\n",
       "      <td>118.5300</td>\n",
       "      <td>118.530</td>\n",
       "      <td>118.20</td>\n",
       "      <td>118.32</td>\n",
       "      <td>5190572</td>\n",
       "      <td>341.51</td>\n",
       "      <td>343.0600</td>\n",
       "      <td>338.5200</td>\n",
       "      <td>338.81</td>\n",
       "      <td>70521698</td>\n",
       "    </tr>\n",
       "    <tr>\n",
       "      <th>2020-09-17 00:00:00-04:00</th>\n",
       "      <td>118.4201</td>\n",
       "      <td>118.520</td>\n",
       "      <td>118.33</td>\n",
       "      <td>118.36</td>\n",
       "      <td>4263541</td>\n",
       "      <td>333.56</td>\n",
       "      <td>337.6996</td>\n",
       "      <td>332.9910</td>\n",
       "      <td>335.86</td>\n",
       "      <td>80778657</td>\n",
       "    </tr>\n",
       "    <tr>\n",
       "      <th>2020-09-18 00:00:00-04:00</th>\n",
       "      <td>118.3900</td>\n",
       "      <td>118.440</td>\n",
       "      <td>118.18</td>\n",
       "      <td>118.24</td>\n",
       "      <td>4548578</td>\n",
       "      <td>335.37</td>\n",
       "      <td>335.4900</td>\n",
       "      <td>327.9700</td>\n",
       "      <td>330.69</td>\n",
       "      <td>88780313</td>\n",
       "    </tr>\n",
       "    <tr>\n",
       "      <th>2020-09-21 00:00:00-04:00</th>\n",
       "      <td>118.4100</td>\n",
       "      <td>118.420</td>\n",
       "      <td>118.25</td>\n",
       "      <td>118.26</td>\n",
       "      <td>4787684</td>\n",
       "      <td>325.70</td>\n",
       "      <td>327.0900</td>\n",
       "      <td>321.7300</td>\n",
       "      <td>327.00</td>\n",
       "      <td>86591719</td>\n",
       "    </tr>\n",
       "  </tbody>\n",
       "</table>\n",
       "</div>"
      ],
      "text/plain": [
       "                                AGG                                       SPY  \\\n",
       "                               open     high     low   close   volume    open   \n",
       "time                                                                            \n",
       "2020-09-15 00:00:00-04:00  118.2900  118.425  118.29  118.38  3635547  341.12   \n",
       "2020-09-16 00:00:00-04:00  118.5300  118.530  118.20  118.32  5190572  341.51   \n",
       "2020-09-17 00:00:00-04:00  118.4201  118.520  118.33  118.36  4263541  333.56   \n",
       "2020-09-18 00:00:00-04:00  118.3900  118.440  118.18  118.24  4548578  335.37   \n",
       "2020-09-21 00:00:00-04:00  118.4100  118.420  118.25  118.26  4787684  325.70   \n",
       "\n",
       "                                                                 \n",
       "                               high       low   close    volume  \n",
       "time                                                             \n",
       "2020-09-15 00:00:00-04:00  342.0200  338.4683  340.15  43980284  \n",
       "2020-09-16 00:00:00-04:00  343.0600  338.5200  338.81  70521698  \n",
       "2020-09-17 00:00:00-04:00  337.6996  332.9910  335.86  80778657  \n",
       "2020-09-18 00:00:00-04:00  335.4900  327.9700  330.69  88780313  \n",
       "2020-09-21 00:00:00-04:00  327.0900  321.7300  327.00  86591719  "
      ]
     },
     "execution_count": 100,
     "metadata": {},
     "output_type": "execute_result"
    }
   ],
   "source": [
    "# Use the Alpaca get_barset function to make the API call to get the 10 years worth of pricing data\n",
    "# The tickers and timeframe parameters should have been set in Part 1 of this activity \n",
    "# The start and end dates should be updated with the information set above\n",
    "# Remember to add the df property to the end of the call so the response is returned as a DataFrame\n",
    "# YOUR CODE HERE\n",
    "prices_df = alpaca.get_barset(\n",
    "    ticker,\n",
    "    timeframe,\n",
    "    start=start_date,\n",
    "    end=end_date\n",
    ").df\n",
    "\n",
    "# Display both the first and last five rows of the DataFrame\n",
    "# YOUR CODE HERE\n",
    "# YOUR CODE HERE\n",
    "prices_df.head()"
   ]
  },
  {
   "cell_type": "markdown",
   "metadata": {},
   "source": [
    "#### Step 2: Run a Monte Carlo simulation of 500 samples and 30 years for the 60/40 portfolio, and then plot the results."
   ]
  },
  {
   "cell_type": "code",
   "execution_count": 118,
   "metadata": {},
   "outputs": [
    {
     "data": {
      "text/html": [
       "<div>\n",
       "<style scoped>\n",
       "    .dataframe tbody tr th:only-of-type {\n",
       "        vertical-align: middle;\n",
       "    }\n",
       "\n",
       "    .dataframe tbody tr th {\n",
       "        vertical-align: top;\n",
       "    }\n",
       "\n",
       "    .dataframe thead tr th {\n",
       "        text-align: left;\n",
       "    }\n",
       "\n",
       "    .dataframe thead tr:last-of-type th {\n",
       "        text-align: right;\n",
       "    }\n",
       "</style>\n",
       "<table border=\"1\" class=\"dataframe\">\n",
       "  <thead>\n",
       "    <tr>\n",
       "      <th></th>\n",
       "      <th colspan=\"6\" halign=\"left\">AGG</th>\n",
       "      <th colspan=\"6\" halign=\"left\">SPY</th>\n",
       "    </tr>\n",
       "    <tr>\n",
       "      <th></th>\n",
       "      <th>open</th>\n",
       "      <th>high</th>\n",
       "      <th>low</th>\n",
       "      <th>close</th>\n",
       "      <th>volume</th>\n",
       "      <th>daily_return</th>\n",
       "      <th>open</th>\n",
       "      <th>high</th>\n",
       "      <th>low</th>\n",
       "      <th>close</th>\n",
       "      <th>volume</th>\n",
       "      <th>daily_return</th>\n",
       "    </tr>\n",
       "    <tr>\n",
       "      <th>time</th>\n",
       "      <th></th>\n",
       "      <th></th>\n",
       "      <th></th>\n",
       "      <th></th>\n",
       "      <th></th>\n",
       "      <th></th>\n",
       "      <th></th>\n",
       "      <th></th>\n",
       "      <th></th>\n",
       "      <th></th>\n",
       "      <th></th>\n",
       "      <th></th>\n",
       "    </tr>\n",
       "  </thead>\n",
       "  <tbody>\n",
       "    <tr>\n",
       "      <th>2020-09-15 00:00:00-04:00</th>\n",
       "      <td>118.2900</td>\n",
       "      <td>118.425</td>\n",
       "      <td>118.29</td>\n",
       "      <td>118.38</td>\n",
       "      <td>3635547</td>\n",
       "      <td>NaN</td>\n",
       "      <td>341.12</td>\n",
       "      <td>342.0200</td>\n",
       "      <td>338.4683</td>\n",
       "      <td>340.15</td>\n",
       "      <td>43980284</td>\n",
       "      <td>NaN</td>\n",
       "    </tr>\n",
       "    <tr>\n",
       "      <th>2020-09-16 00:00:00-04:00</th>\n",
       "      <td>118.5300</td>\n",
       "      <td>118.530</td>\n",
       "      <td>118.20</td>\n",
       "      <td>118.32</td>\n",
       "      <td>5190572</td>\n",
       "      <td>-0.000507</td>\n",
       "      <td>341.51</td>\n",
       "      <td>343.0600</td>\n",
       "      <td>338.5200</td>\n",
       "      <td>338.81</td>\n",
       "      <td>70521698</td>\n",
       "      <td>-0.003939</td>\n",
       "    </tr>\n",
       "    <tr>\n",
       "      <th>2020-09-17 00:00:00-04:00</th>\n",
       "      <td>118.4201</td>\n",
       "      <td>118.520</td>\n",
       "      <td>118.33</td>\n",
       "      <td>118.36</td>\n",
       "      <td>4263541</td>\n",
       "      <td>0.000338</td>\n",
       "      <td>333.56</td>\n",
       "      <td>337.6996</td>\n",
       "      <td>332.9910</td>\n",
       "      <td>335.86</td>\n",
       "      <td>80778657</td>\n",
       "      <td>-0.008707</td>\n",
       "    </tr>\n",
       "    <tr>\n",
       "      <th>2020-09-18 00:00:00-04:00</th>\n",
       "      <td>118.3900</td>\n",
       "      <td>118.440</td>\n",
       "      <td>118.18</td>\n",
       "      <td>118.24</td>\n",
       "      <td>4548578</td>\n",
       "      <td>-0.001014</td>\n",
       "      <td>335.37</td>\n",
       "      <td>335.4900</td>\n",
       "      <td>327.9700</td>\n",
       "      <td>330.69</td>\n",
       "      <td>88780313</td>\n",
       "      <td>-0.015393</td>\n",
       "    </tr>\n",
       "    <tr>\n",
       "      <th>2020-09-21 00:00:00-04:00</th>\n",
       "      <td>118.4100</td>\n",
       "      <td>118.420</td>\n",
       "      <td>118.25</td>\n",
       "      <td>118.26</td>\n",
       "      <td>4787684</td>\n",
       "      <td>0.000169</td>\n",
       "      <td>325.70</td>\n",
       "      <td>327.0900</td>\n",
       "      <td>321.7300</td>\n",
       "      <td>327.00</td>\n",
       "      <td>86591719</td>\n",
       "      <td>-0.011158</td>\n",
       "    </tr>\n",
       "  </tbody>\n",
       "</table>\n",
       "</div>"
      ],
      "text/plain": [
       "                                AGG                                    \\\n",
       "                               open     high     low   close   volume   \n",
       "time                                                                    \n",
       "2020-09-15 00:00:00-04:00  118.2900  118.425  118.29  118.38  3635547   \n",
       "2020-09-16 00:00:00-04:00  118.5300  118.530  118.20  118.32  5190572   \n",
       "2020-09-17 00:00:00-04:00  118.4201  118.520  118.33  118.36  4263541   \n",
       "2020-09-18 00:00:00-04:00  118.3900  118.440  118.18  118.24  4548578   \n",
       "2020-09-21 00:00:00-04:00  118.4100  118.420  118.25  118.26  4787684   \n",
       "\n",
       "                                           SPY                              \\\n",
       "                          daily_return    open      high       low   close   \n",
       "time                                                                         \n",
       "2020-09-15 00:00:00-04:00          NaN  341.12  342.0200  338.4683  340.15   \n",
       "2020-09-16 00:00:00-04:00    -0.000507  341.51  343.0600  338.5200  338.81   \n",
       "2020-09-17 00:00:00-04:00     0.000338  333.56  337.6996  332.9910  335.86   \n",
       "2020-09-18 00:00:00-04:00    -0.001014  335.37  335.4900  327.9700  330.69   \n",
       "2020-09-21 00:00:00-04:00     0.000169  325.70  327.0900  321.7300  327.00   \n",
       "\n",
       "                                                  \n",
       "                             volume daily_return  \n",
       "time                                              \n",
       "2020-09-15 00:00:00-04:00  43980284          NaN  \n",
       "2020-09-16 00:00:00-04:00  70521698    -0.003939  \n",
       "2020-09-17 00:00:00-04:00  80778657    -0.008707  \n",
       "2020-09-18 00:00:00-04:00  88780313    -0.015393  \n",
       "2020-09-21 00:00:00-04:00  86591719    -0.011158  "
      ]
     },
     "execution_count": 118,
     "metadata": {},
     "output_type": "execute_result"
    }
   ],
   "source": [
    "# Configure the Monte Carlo simulation to forecast 30 years cumulative returns\n",
    "# The weights should be split 40% to AGG and 60% to SPY.\n",
    "# Run 500 samples.\n",
    "# YOUR CODE HERE\n",
    "thirty_year_simulation = MCSimulation(\n",
    "    portfolio_data = prices_df,\n",
    "    weights = [.60,.40],\n",
    "    num_simulation = 500,\n",
    "    num_trading_days = 252*30\n",
    ")\n",
    "# Review the simulation input data\n",
    "# YOUR CODE HERE\n",
    "thirty_year_simulation.portfolio_data.head()"
   ]
  },
  {
   "cell_type": "code",
   "execution_count": 107,
   "metadata": {},
   "outputs": [
    {
     "name": "stdout",
     "output_type": "stream",
     "text": [
      "Running Monte Carlo simulation number 0.\n",
      "Running Monte Carlo simulation number 10.\n",
      "Running Monte Carlo simulation number 20.\n",
      "Running Monte Carlo simulation number 30.\n",
      "Running Monte Carlo simulation number 40.\n",
      "Running Monte Carlo simulation number 50.\n",
      "Running Monte Carlo simulation number 60.\n",
      "Running Monte Carlo simulation number 70.\n",
      "Running Monte Carlo simulation number 80.\n",
      "Running Monte Carlo simulation number 90.\n",
      "Running Monte Carlo simulation number 100.\n",
      "Running Monte Carlo simulation number 110.\n",
      "Running Monte Carlo simulation number 120.\n",
      "Running Monte Carlo simulation number 130.\n",
      "Running Monte Carlo simulation number 140.\n",
      "Running Monte Carlo simulation number 150.\n",
      "Running Monte Carlo simulation number 160.\n",
      "Running Monte Carlo simulation number 170.\n",
      "Running Monte Carlo simulation number 180.\n",
      "Running Monte Carlo simulation number 190.\n",
      "Running Monte Carlo simulation number 200.\n",
      "Running Monte Carlo simulation number 210.\n",
      "Running Monte Carlo simulation number 220.\n",
      "Running Monte Carlo simulation number 230.\n",
      "Running Monte Carlo simulation number 240.\n",
      "Running Monte Carlo simulation number 250.\n",
      "Running Monte Carlo simulation number 260.\n",
      "Running Monte Carlo simulation number 270.\n",
      "Running Monte Carlo simulation number 280.\n",
      "Running Monte Carlo simulation number 290.\n",
      "Running Monte Carlo simulation number 300.\n",
      "Running Monte Carlo simulation number 310.\n",
      "Running Monte Carlo simulation number 320.\n",
      "Running Monte Carlo simulation number 330.\n",
      "Running Monte Carlo simulation number 340.\n",
      "Running Monte Carlo simulation number 350.\n",
      "Running Monte Carlo simulation number 360.\n",
      "Running Monte Carlo simulation number 370.\n",
      "Running Monte Carlo simulation number 380.\n",
      "Running Monte Carlo simulation number 390.\n",
      "Running Monte Carlo simulation number 400.\n",
      "Running Monte Carlo simulation number 410.\n",
      "Running Monte Carlo simulation number 420.\n",
      "Running Monte Carlo simulation number 430.\n",
      "Running Monte Carlo simulation number 440.\n",
      "Running Monte Carlo simulation number 450.\n",
      "Running Monte Carlo simulation number 460.\n",
      "Running Monte Carlo simulation number 470.\n",
      "Running Monte Carlo simulation number 480.\n",
      "Running Monte Carlo simulation number 490.\n"
     ]
    },
    {
     "data": {
      "text/html": [
       "<div>\n",
       "<style scoped>\n",
       "    .dataframe tbody tr th:only-of-type {\n",
       "        vertical-align: middle;\n",
       "    }\n",
       "\n",
       "    .dataframe tbody tr th {\n",
       "        vertical-align: top;\n",
       "    }\n",
       "\n",
       "    .dataframe thead th {\n",
       "        text-align: right;\n",
       "    }\n",
       "</style>\n",
       "<table border=\"1\" class=\"dataframe\">\n",
       "  <thead>\n",
       "    <tr style=\"text-align: right;\">\n",
       "      <th></th>\n",
       "      <th>0</th>\n",
       "      <th>1</th>\n",
       "      <th>2</th>\n",
       "      <th>3</th>\n",
       "      <th>4</th>\n",
       "      <th>5</th>\n",
       "      <th>6</th>\n",
       "      <th>7</th>\n",
       "      <th>8</th>\n",
       "      <th>9</th>\n",
       "      <th>...</th>\n",
       "      <th>490</th>\n",
       "      <th>491</th>\n",
       "      <th>492</th>\n",
       "      <th>493</th>\n",
       "      <th>494</th>\n",
       "      <th>495</th>\n",
       "      <th>496</th>\n",
       "      <th>497</th>\n",
       "      <th>498</th>\n",
       "      <th>499</th>\n",
       "    </tr>\n",
       "  </thead>\n",
       "  <tbody>\n",
       "    <tr>\n",
       "      <th>0</th>\n",
       "      <td>1.000000</td>\n",
       "      <td>1.000000</td>\n",
       "      <td>1.000000</td>\n",
       "      <td>1.000000</td>\n",
       "      <td>1.000000</td>\n",
       "      <td>1.000000</td>\n",
       "      <td>1.000000</td>\n",
       "      <td>1.000000</td>\n",
       "      <td>1.000000</td>\n",
       "      <td>1.000000</td>\n",
       "      <td>...</td>\n",
       "      <td>1.000000</td>\n",
       "      <td>1.000000</td>\n",
       "      <td>1.000000</td>\n",
       "      <td>1.000000</td>\n",
       "      <td>1.000000</td>\n",
       "      <td>1.000000</td>\n",
       "      <td>1.000000</td>\n",
       "      <td>1.000000</td>\n",
       "      <td>1.000000</td>\n",
       "      <td>1.000000</td>\n",
       "    </tr>\n",
       "    <tr>\n",
       "      <th>1</th>\n",
       "      <td>0.992678</td>\n",
       "      <td>1.005041</td>\n",
       "      <td>1.000146</td>\n",
       "      <td>0.995194</td>\n",
       "      <td>1.001803</td>\n",
       "      <td>1.005741</td>\n",
       "      <td>0.996528</td>\n",
       "      <td>1.004856</td>\n",
       "      <td>0.999672</td>\n",
       "      <td>0.995803</td>\n",
       "      <td>...</td>\n",
       "      <td>0.999421</td>\n",
       "      <td>0.996304</td>\n",
       "      <td>0.999234</td>\n",
       "      <td>0.997130</td>\n",
       "      <td>1.006845</td>\n",
       "      <td>1.000447</td>\n",
       "      <td>0.998256</td>\n",
       "      <td>0.990595</td>\n",
       "      <td>1.011944</td>\n",
       "      <td>1.003287</td>\n",
       "    </tr>\n",
       "    <tr>\n",
       "      <th>2</th>\n",
       "      <td>0.989241</td>\n",
       "      <td>1.003629</td>\n",
       "      <td>1.003388</td>\n",
       "      <td>1.003096</td>\n",
       "      <td>1.000191</td>\n",
       "      <td>1.012762</td>\n",
       "      <td>1.007763</td>\n",
       "      <td>1.007109</td>\n",
       "      <td>0.999120</td>\n",
       "      <td>1.001139</td>\n",
       "      <td>...</td>\n",
       "      <td>0.991614</td>\n",
       "      <td>0.998159</td>\n",
       "      <td>1.005737</td>\n",
       "      <td>0.999304</td>\n",
       "      <td>1.005995</td>\n",
       "      <td>1.001258</td>\n",
       "      <td>1.003330</td>\n",
       "      <td>0.991316</td>\n",
       "      <td>1.005781</td>\n",
       "      <td>1.008361</td>\n",
       "    </tr>\n",
       "    <tr>\n",
       "      <th>3</th>\n",
       "      <td>0.991977</td>\n",
       "      <td>0.997274</td>\n",
       "      <td>1.005665</td>\n",
       "      <td>1.007932</td>\n",
       "      <td>1.002846</td>\n",
       "      <td>1.013418</td>\n",
       "      <td>1.008893</td>\n",
       "      <td>1.006326</td>\n",
       "      <td>1.005624</td>\n",
       "      <td>1.006058</td>\n",
       "      <td>...</td>\n",
       "      <td>0.984779</td>\n",
       "      <td>0.989796</td>\n",
       "      <td>1.013399</td>\n",
       "      <td>0.989576</td>\n",
       "      <td>1.008527</td>\n",
       "      <td>0.996445</td>\n",
       "      <td>1.003890</td>\n",
       "      <td>0.995686</td>\n",
       "      <td>1.004179</td>\n",
       "      <td>1.002760</td>\n",
       "    </tr>\n",
       "    <tr>\n",
       "      <th>4</th>\n",
       "      <td>0.996571</td>\n",
       "      <td>0.994278</td>\n",
       "      <td>1.005658</td>\n",
       "      <td>1.008279</td>\n",
       "      <td>1.008536</td>\n",
       "      <td>1.011765</td>\n",
       "      <td>1.011667</td>\n",
       "      <td>1.012533</td>\n",
       "      <td>1.004737</td>\n",
       "      <td>1.010291</td>\n",
       "      <td>...</td>\n",
       "      <td>0.993587</td>\n",
       "      <td>0.991571</td>\n",
       "      <td>1.012191</td>\n",
       "      <td>0.993803</td>\n",
       "      <td>1.004115</td>\n",
       "      <td>0.997845</td>\n",
       "      <td>1.013546</td>\n",
       "      <td>0.999902</td>\n",
       "      <td>0.998502</td>\n",
       "      <td>0.999638</td>\n",
       "    </tr>\n",
       "    <tr>\n",
       "      <th>...</th>\n",
       "      <td>...</td>\n",
       "      <td>...</td>\n",
       "      <td>...</td>\n",
       "      <td>...</td>\n",
       "      <td>...</td>\n",
       "      <td>...</td>\n",
       "      <td>...</td>\n",
       "      <td>...</td>\n",
       "      <td>...</td>\n",
       "      <td>...</td>\n",
       "      <td>...</td>\n",
       "      <td>...</td>\n",
       "      <td>...</td>\n",
       "      <td>...</td>\n",
       "      <td>...</td>\n",
       "      <td>...</td>\n",
       "      <td>...</td>\n",
       "      <td>...</td>\n",
       "      <td>...</td>\n",
       "      <td>...</td>\n",
       "      <td>...</td>\n",
       "    </tr>\n",
       "    <tr>\n",
       "      <th>7556</th>\n",
       "      <td>21.150832</td>\n",
       "      <td>34.015174</td>\n",
       "      <td>27.174736</td>\n",
       "      <td>28.720795</td>\n",
       "      <td>28.957959</td>\n",
       "      <td>28.852182</td>\n",
       "      <td>14.285506</td>\n",
       "      <td>57.069338</td>\n",
       "      <td>53.672796</td>\n",
       "      <td>30.536369</td>\n",
       "      <td>...</td>\n",
       "      <td>33.139132</td>\n",
       "      <td>24.772500</td>\n",
       "      <td>47.808125</td>\n",
       "      <td>30.869885</td>\n",
       "      <td>43.558074</td>\n",
       "      <td>45.548265</td>\n",
       "      <td>32.751676</td>\n",
       "      <td>41.925559</td>\n",
       "      <td>46.114115</td>\n",
       "      <td>32.167557</td>\n",
       "    </tr>\n",
       "    <tr>\n",
       "      <th>7557</th>\n",
       "      <td>21.290949</td>\n",
       "      <td>34.402867</td>\n",
       "      <td>27.186149</td>\n",
       "      <td>28.698311</td>\n",
       "      <td>28.954837</td>\n",
       "      <td>28.729430</td>\n",
       "      <td>14.310984</td>\n",
       "      <td>56.831830</td>\n",
       "      <td>53.855295</td>\n",
       "      <td>30.555705</td>\n",
       "      <td>...</td>\n",
       "      <td>33.211547</td>\n",
       "      <td>25.026430</td>\n",
       "      <td>47.829145</td>\n",
       "      <td>30.998719</td>\n",
       "      <td>43.413682</td>\n",
       "      <td>45.697212</td>\n",
       "      <td>32.542468</td>\n",
       "      <td>41.903545</td>\n",
       "      <td>45.785708</td>\n",
       "      <td>32.259862</td>\n",
       "    </tr>\n",
       "    <tr>\n",
       "      <th>7558</th>\n",
       "      <td>21.240831</td>\n",
       "      <td>34.567750</td>\n",
       "      <td>27.283873</td>\n",
       "      <td>28.619703</td>\n",
       "      <td>28.818600</td>\n",
       "      <td>28.722018</td>\n",
       "      <td>14.316213</td>\n",
       "      <td>57.258206</td>\n",
       "      <td>53.617133</td>\n",
       "      <td>30.848168</td>\n",
       "      <td>...</td>\n",
       "      <td>33.449256</td>\n",
       "      <td>24.951205</td>\n",
       "      <td>48.265405</td>\n",
       "      <td>30.961727</td>\n",
       "      <td>43.235125</td>\n",
       "      <td>45.781874</td>\n",
       "      <td>32.519527</td>\n",
       "      <td>41.949468</td>\n",
       "      <td>45.931200</td>\n",
       "      <td>32.354399</td>\n",
       "    </tr>\n",
       "    <tr>\n",
       "      <th>7559</th>\n",
       "      <td>21.312277</td>\n",
       "      <td>34.417749</td>\n",
       "      <td>27.428229</td>\n",
       "      <td>28.559947</td>\n",
       "      <td>28.714726</td>\n",
       "      <td>28.630627</td>\n",
       "      <td>14.284846</td>\n",
       "      <td>57.023903</td>\n",
       "      <td>53.814306</td>\n",
       "      <td>31.177819</td>\n",
       "      <td>...</td>\n",
       "      <td>33.507271</td>\n",
       "      <td>24.930851</td>\n",
       "      <td>48.554337</td>\n",
       "      <td>31.064465</td>\n",
       "      <td>43.066488</td>\n",
       "      <td>45.787978</td>\n",
       "      <td>32.479754</td>\n",
       "      <td>42.168241</td>\n",
       "      <td>45.797472</td>\n",
       "      <td>32.289439</td>\n",
       "    </tr>\n",
       "    <tr>\n",
       "      <th>7560</th>\n",
       "      <td>21.375373</td>\n",
       "      <td>34.545803</td>\n",
       "      <td>27.251427</td>\n",
       "      <td>28.503966</td>\n",
       "      <td>28.804259</td>\n",
       "      <td>28.663832</td>\n",
       "      <td>14.306882</td>\n",
       "      <td>57.050982</td>\n",
       "      <td>53.462091</td>\n",
       "      <td>31.007830</td>\n",
       "      <td>...</td>\n",
       "      <td>33.306937</td>\n",
       "      <td>24.906328</td>\n",
       "      <td>48.612597</td>\n",
       "      <td>31.137690</td>\n",
       "      <td>43.024839</td>\n",
       "      <td>46.180642</td>\n",
       "      <td>32.389632</td>\n",
       "      <td>42.069658</td>\n",
       "      <td>45.970024</td>\n",
       "      <td>32.345742</td>\n",
       "    </tr>\n",
       "  </tbody>\n",
       "</table>\n",
       "<p>7561 rows × 500 columns</p>\n",
       "</div>"
      ],
      "text/plain": [
       "            0          1          2          3          4          5    \\\n",
       "0      1.000000   1.000000   1.000000   1.000000   1.000000   1.000000   \n",
       "1      0.992678   1.005041   1.000146   0.995194   1.001803   1.005741   \n",
       "2      0.989241   1.003629   1.003388   1.003096   1.000191   1.012762   \n",
       "3      0.991977   0.997274   1.005665   1.007932   1.002846   1.013418   \n",
       "4      0.996571   0.994278   1.005658   1.008279   1.008536   1.011765   \n",
       "...         ...        ...        ...        ...        ...        ...   \n",
       "7556  21.150832  34.015174  27.174736  28.720795  28.957959  28.852182   \n",
       "7557  21.290949  34.402867  27.186149  28.698311  28.954837  28.729430   \n",
       "7558  21.240831  34.567750  27.283873  28.619703  28.818600  28.722018   \n",
       "7559  21.312277  34.417749  27.428229  28.559947  28.714726  28.630627   \n",
       "7560  21.375373  34.545803  27.251427  28.503966  28.804259  28.663832   \n",
       "\n",
       "            6          7          8          9    ...        490        491  \\\n",
       "0      1.000000   1.000000   1.000000   1.000000  ...   1.000000   1.000000   \n",
       "1      0.996528   1.004856   0.999672   0.995803  ...   0.999421   0.996304   \n",
       "2      1.007763   1.007109   0.999120   1.001139  ...   0.991614   0.998159   \n",
       "3      1.008893   1.006326   1.005624   1.006058  ...   0.984779   0.989796   \n",
       "4      1.011667   1.012533   1.004737   1.010291  ...   0.993587   0.991571   \n",
       "...         ...        ...        ...        ...  ...        ...        ...   \n",
       "7556  14.285506  57.069338  53.672796  30.536369  ...  33.139132  24.772500   \n",
       "7557  14.310984  56.831830  53.855295  30.555705  ...  33.211547  25.026430   \n",
       "7558  14.316213  57.258206  53.617133  30.848168  ...  33.449256  24.951205   \n",
       "7559  14.284846  57.023903  53.814306  31.177819  ...  33.507271  24.930851   \n",
       "7560  14.306882  57.050982  53.462091  31.007830  ...  33.306937  24.906328   \n",
       "\n",
       "            492        493        494        495        496        497  \\\n",
       "0      1.000000   1.000000   1.000000   1.000000   1.000000   1.000000   \n",
       "1      0.999234   0.997130   1.006845   1.000447   0.998256   0.990595   \n",
       "2      1.005737   0.999304   1.005995   1.001258   1.003330   0.991316   \n",
       "3      1.013399   0.989576   1.008527   0.996445   1.003890   0.995686   \n",
       "4      1.012191   0.993803   1.004115   0.997845   1.013546   0.999902   \n",
       "...         ...        ...        ...        ...        ...        ...   \n",
       "7556  47.808125  30.869885  43.558074  45.548265  32.751676  41.925559   \n",
       "7557  47.829145  30.998719  43.413682  45.697212  32.542468  41.903545   \n",
       "7558  48.265405  30.961727  43.235125  45.781874  32.519527  41.949468   \n",
       "7559  48.554337  31.064465  43.066488  45.787978  32.479754  42.168241   \n",
       "7560  48.612597  31.137690  43.024839  46.180642  32.389632  42.069658   \n",
       "\n",
       "            498        499  \n",
       "0      1.000000   1.000000  \n",
       "1      1.011944   1.003287  \n",
       "2      1.005781   1.008361  \n",
       "3      1.004179   1.002760  \n",
       "4      0.998502   0.999638  \n",
       "...         ...        ...  \n",
       "7556  46.114115  32.167557  \n",
       "7557  45.785708  32.259862  \n",
       "7558  45.931200  32.354399  \n",
       "7559  45.797472  32.289439  \n",
       "7560  45.970024  32.345742  \n",
       "\n",
       "[7561 rows x 500 columns]"
      ]
     },
     "execution_count": 107,
     "metadata": {},
     "output_type": "execute_result"
    }
   ],
   "source": [
    "# Run the Monte Carlo simulation to forecast 30 years cumulative returns\n",
    "# YOUR CODE HERE\n",
    "thirty_year_simulation.calc_cumulative_return()"
   ]
  },
  {
   "cell_type": "code",
   "execution_count": 119,
   "metadata": {},
   "outputs": [
    {
     "name": "stdout",
     "output_type": "stream",
     "text": [
      "Running Monte Carlo simulation number 0.\n",
      "Running Monte Carlo simulation number 10.\n",
      "Running Monte Carlo simulation number 20.\n",
      "Running Monte Carlo simulation number 30.\n",
      "Running Monte Carlo simulation number 40.\n",
      "Running Monte Carlo simulation number 50.\n",
      "Running Monte Carlo simulation number 60.\n",
      "Running Monte Carlo simulation number 70.\n",
      "Running Monte Carlo simulation number 80.\n",
      "Running Monte Carlo simulation number 90.\n",
      "Running Monte Carlo simulation number 100.\n",
      "Running Monte Carlo simulation number 110.\n",
      "Running Monte Carlo simulation number 120.\n",
      "Running Monte Carlo simulation number 130.\n",
      "Running Monte Carlo simulation number 140.\n",
      "Running Monte Carlo simulation number 150.\n",
      "Running Monte Carlo simulation number 160.\n",
      "Running Monte Carlo simulation number 170.\n",
      "Running Monte Carlo simulation number 180.\n",
      "Running Monte Carlo simulation number 190.\n",
      "Running Monte Carlo simulation number 200.\n",
      "Running Monte Carlo simulation number 210.\n",
      "Running Monte Carlo simulation number 220.\n",
      "Running Monte Carlo simulation number 230.\n",
      "Running Monte Carlo simulation number 240.\n",
      "Running Monte Carlo simulation number 250.\n",
      "Running Monte Carlo simulation number 260.\n",
      "Running Monte Carlo simulation number 270.\n",
      "Running Monte Carlo simulation number 280.\n",
      "Running Monte Carlo simulation number 290.\n",
      "Running Monte Carlo simulation number 300.\n",
      "Running Monte Carlo simulation number 310.\n",
      "Running Monte Carlo simulation number 320.\n",
      "Running Monte Carlo simulation number 330.\n",
      "Running Monte Carlo simulation number 340.\n",
      "Running Monte Carlo simulation number 350.\n",
      "Running Monte Carlo simulation number 360.\n",
      "Running Monte Carlo simulation number 370.\n",
      "Running Monte Carlo simulation number 380.\n",
      "Running Monte Carlo simulation number 390.\n",
      "Running Monte Carlo simulation number 400.\n",
      "Running Monte Carlo simulation number 410.\n",
      "Running Monte Carlo simulation number 420.\n",
      "Running Monte Carlo simulation number 430.\n",
      "Running Monte Carlo simulation number 440.\n",
      "Running Monte Carlo simulation number 450.\n",
      "Running Monte Carlo simulation number 460.\n",
      "Running Monte Carlo simulation number 470.\n",
      "Running Monte Carlo simulation number 480.\n",
      "Running Monte Carlo simulation number 490.\n"
     ]
    },
    {
     "data": {
      "text/plain": [
       "<AxesSubplot:title={'center':'500 Simulations of Cumulative Portfolio Return Trajectories Over the Next 7560 Trading Days.'}>"
      ]
     },
     "execution_count": 119,
     "metadata": {},
     "output_type": "execute_result"
    },
    {
     "data": {
      "image/png": "[encoded data removed]",
      "text/plain": [
       "<Figure size 432x288 with 1 Axes>"
      ]
     },
     "metadata": {
      "needs_background": "light"
     },
     "output_type": "display_data"
    }
   ],
   "source": [
    "# Visualize the 30-year Monte Carlo simulation by creating an\n",
    "# overlay line plot\n",
    "# YOUR CODE HERE\n",
    "thirty_year_simulation.plot_simulation()"
   ]
  },
  {
   "cell_type": "markdown",
   "metadata": {},
   "source": [
    "#### Step 3: Plot the probability distribution of the Monte Carlo simulation."
   ]
  },
  {
   "cell_type": "code",
   "execution_count": 120,
   "metadata": {},
   "outputs": [
    {
     "data": {
      "text/plain": [
       "<AxesSubplot:title={'center':'Distribution of Final Cumuluative Returns Across All 500 Simulations'}, ylabel='Frequency'>"
      ]
     },
     "execution_count": 120,
     "metadata": {},
     "output_type": "execute_result"
    },
    {
     "data": {
      "image/png": "[encoded data removed]",
      "text/plain": [
       "<Figure size 432x288 with 1 Axes>"
      ]
     },
     "metadata": {
      "needs_background": "light"
     },
     "output_type": "display_data"
    }
   ],
   "source": [
    "# Visualize the probability distribution of the 30-year Monte Carlo simulation \n",
    "# by plotting a histogram\n",
    "# YOUR CODE HERE\n",
    "thirty_year_simulation.plot_distribution()"
   ]
  },
  {
   "cell_type": "markdown",
   "metadata": {},
   "source": [
    "#### Step 4: Generate the summary statistics for the Monte Carlo simulation."
   ]
  },
  {
   "cell_type": "code",
   "execution_count": 127,
   "metadata": {},
   "outputs": [
    {
     "data": {
      "text/plain": [
       "count           500.000000\n",
       "mean              1.495718\n",
       "std               0.181591\n",
       "min               1.036082\n",
       "25%               1.372628\n",
       "50%               1.484393\n",
       "75%               1.605202\n",
       "max               2.106712\n",
       "95% CI Lower      1.147609\n",
       "95% CI Upper      1.872507\n",
       "Name: 2520, dtype: float64"
      ]
     },
     "execution_count": 127,
     "metadata": {},
     "output_type": "execute_result"
    }
   ],
   "source": [
    "# Generate summary statistics from the 30-year Monte Carlo simulation results\n",
    "# Save the results as a variable\n",
    "# YOUR CODE HERE\n",
    "thirty_year_simulation_summary= ten_year_simulation.summarize_cumulative_return()\n",
    "# Review the 30-year Monte Carlo summary statistics\n",
    "# YOUR CODE HERE\n",
    "thirty_year_simulation_summary"
   ]
  },
  {
   "cell_type": "markdown",
   "metadata": {},
   "source": [
    "### Analyze the Retirement Portfolio Forecasts\n",
    "\n",
    "Using the current value of only the stock and bond portion of the member's portfolio and the summary statistics that you generated from the Monte Carlo simulation, answer the following question in your Jupyter notebook:\n",
    "\n",
    "-  What are the lower and upper bounds for the expected value of the portfolio with a 95% confidence interval?\n"
   ]
  },
  {
   "cell_type": "code",
   "execution_count": 122,
   "metadata": {},
   "outputs": [
    {
     "name": "stdout",
     "output_type": "stream",
     "text": [
      "The current balance of the stock and bond of the the portfolio is $65988.8.\n"
     ]
    }
   ],
   "source": [
    "# Print the current balance of the stock and bond portion of the members portfolio\n",
    "# YOUR CODE HERE\n",
    "print(f\"The current balance of the stock and bond of the the portfolio is ${total_stocks_bonds}.\")\n"
   ]
  },
  {
   "cell_type": "code",
   "execution_count": 128,
   "metadata": {},
   "outputs": [
    {
     "name": "stdout",
     "output_type": "stream",
     "text": [
      "The lower and upper bounds for the expected value of the portfolio with a 95% confidence interval is in the rage of $75729.35 and $123564.47.\n"
     ]
    }
   ],
   "source": [
    "# Use the lower and upper `95%` confidence intervals to calculate the range of the possible outcomes for the current stock/bond portfolio\n",
    "ci_lower_thirty_cumulative_return = thirty_year_simulation_summary[8] * total_stocks_bonds# YOUR CODE HERE\n",
    "ci_upper_thirty_cumulative_return = thirty_year_simulation_summary[9] * total_stocks_bonds# YOUR CODE HERE\n",
    "\n",
    "# Print the result of your calculations\n",
    "print(f\"The lower and upper bounds for the expected value of the portfolio with a 95% confidence interval is in the rage of ${ci_lower_thirty_cumulative_return:.2f} and ${ci_upper_thirty_cumulative_return:.2f}.\")\n",
    "\n",
    "\n"
   ]
  },
  {
   "cell_type": "markdown",
   "metadata": {},
   "source": [
    "### Forecast Cumulative Returns in 10 Years\n",
    "\n",
    "The CTO of the credit union is impressed with your work on these planning tools but wonders if 30 years is a long time to wait until retirement. So, your next task is to adjust the retirement portfolio and run a new Monte Carlo simulation to find out if the changes will allow members to retire earlier.\n",
    "\n",
    "For this new Monte Carlo simulation, do the following: \n",
    "\n",
    "- Forecast the cumulative returns for 10 years from now. Because of the shortened investment horizon (30 years to 10 years), the portfolio needs to invest more heavily in the riskier asset&mdash;that is, stock&mdash;to help accumulate wealth for retirement. \n",
    "\n",
    "- Adjust the weights of the retirement portfolio so that the composition for the Monte Carlo simulation consists of 20% bonds and 80% stocks. \n",
    "\n",
    "- Run the simulation over 500 samples, and use the same data that the API call to Alpaca generated.\n",
    "\n",
    "- Based on the new Monte Carlo simulation, answer the following questions in your Jupyter notebook:\n",
    "\n",
    "    - Using the current value of only the stock and bond portion of the member's portfolio and the summary statistics that you generated from the new Monte Carlo simulation, what are the lower and upper bounds for the expected value of the portfolio (with the new weights) with a 95% confidence interval?\n",
    "\n",
    "    - Will weighting the portfolio more heavily toward stocks allow the credit union members to retire after only 10 years?\n"
   ]
  },
  {
   "cell_type": "code",
   "execution_count": 125,
   "metadata": {},
   "outputs": [
    {
     "data": {
      "text/html": [
       "<div>\n",
       "<style scoped>\n",
       "    .dataframe tbody tr th:only-of-type {\n",
       "        vertical-align: middle;\n",
       "    }\n",
       "\n",
       "    .dataframe tbody tr th {\n",
       "        vertical-align: top;\n",
       "    }\n",
       "\n",
       "    .dataframe thead tr th {\n",
       "        text-align: left;\n",
       "    }\n",
       "\n",
       "    .dataframe thead tr:last-of-type th {\n",
       "        text-align: right;\n",
       "    }\n",
       "</style>\n",
       "<table border=\"1\" class=\"dataframe\">\n",
       "  <thead>\n",
       "    <tr>\n",
       "      <th></th>\n",
       "      <th colspan=\"6\" halign=\"left\">AGG</th>\n",
       "      <th colspan=\"6\" halign=\"left\">SPY</th>\n",
       "    </tr>\n",
       "    <tr>\n",
       "      <th></th>\n",
       "      <th>open</th>\n",
       "      <th>high</th>\n",
       "      <th>low</th>\n",
       "      <th>close</th>\n",
       "      <th>volume</th>\n",
       "      <th>daily_return</th>\n",
       "      <th>open</th>\n",
       "      <th>high</th>\n",
       "      <th>low</th>\n",
       "      <th>close</th>\n",
       "      <th>volume</th>\n",
       "      <th>daily_return</th>\n",
       "    </tr>\n",
       "    <tr>\n",
       "      <th>time</th>\n",
       "      <th></th>\n",
       "      <th></th>\n",
       "      <th></th>\n",
       "      <th></th>\n",
       "      <th></th>\n",
       "      <th></th>\n",
       "      <th></th>\n",
       "      <th></th>\n",
       "      <th></th>\n",
       "      <th></th>\n",
       "      <th></th>\n",
       "      <th></th>\n",
       "    </tr>\n",
       "  </thead>\n",
       "  <tbody>\n",
       "    <tr>\n",
       "      <th>2020-09-15 00:00:00-04:00</th>\n",
       "      <td>118.2900</td>\n",
       "      <td>118.425</td>\n",
       "      <td>118.29</td>\n",
       "      <td>118.38</td>\n",
       "      <td>3635547</td>\n",
       "      <td>NaN</td>\n",
       "      <td>341.12</td>\n",
       "      <td>342.0200</td>\n",
       "      <td>338.4683</td>\n",
       "      <td>340.15</td>\n",
       "      <td>43980284</td>\n",
       "      <td>NaN</td>\n",
       "    </tr>\n",
       "    <tr>\n",
       "      <th>2020-09-16 00:00:00-04:00</th>\n",
       "      <td>118.5300</td>\n",
       "      <td>118.530</td>\n",
       "      <td>118.20</td>\n",
       "      <td>118.32</td>\n",
       "      <td>5190572</td>\n",
       "      <td>-0.000507</td>\n",
       "      <td>341.51</td>\n",
       "      <td>343.0600</td>\n",
       "      <td>338.5200</td>\n",
       "      <td>338.81</td>\n",
       "      <td>70521698</td>\n",
       "      <td>-0.003939</td>\n",
       "    </tr>\n",
       "    <tr>\n",
       "      <th>2020-09-17 00:00:00-04:00</th>\n",
       "      <td>118.4201</td>\n",
       "      <td>118.520</td>\n",
       "      <td>118.33</td>\n",
       "      <td>118.36</td>\n",
       "      <td>4263541</td>\n",
       "      <td>0.000338</td>\n",
       "      <td>333.56</td>\n",
       "      <td>337.6996</td>\n",
       "      <td>332.9910</td>\n",
       "      <td>335.86</td>\n",
       "      <td>80778657</td>\n",
       "      <td>-0.008707</td>\n",
       "    </tr>\n",
       "    <tr>\n",
       "      <th>2020-09-18 00:00:00-04:00</th>\n",
       "      <td>118.3900</td>\n",
       "      <td>118.440</td>\n",
       "      <td>118.18</td>\n",
       "      <td>118.24</td>\n",
       "      <td>4548578</td>\n",
       "      <td>-0.001014</td>\n",
       "      <td>335.37</td>\n",
       "      <td>335.4900</td>\n",
       "      <td>327.9700</td>\n",
       "      <td>330.69</td>\n",
       "      <td>88780313</td>\n",
       "      <td>-0.015393</td>\n",
       "    </tr>\n",
       "    <tr>\n",
       "      <th>2020-09-21 00:00:00-04:00</th>\n",
       "      <td>118.4100</td>\n",
       "      <td>118.420</td>\n",
       "      <td>118.25</td>\n",
       "      <td>118.26</td>\n",
       "      <td>4787684</td>\n",
       "      <td>0.000169</td>\n",
       "      <td>325.70</td>\n",
       "      <td>327.0900</td>\n",
       "      <td>321.7300</td>\n",
       "      <td>327.00</td>\n",
       "      <td>86591719</td>\n",
       "      <td>-0.011158</td>\n",
       "    </tr>\n",
       "  </tbody>\n",
       "</table>\n",
       "</div>"
      ],
      "text/plain": [
       "                                AGG                                    \\\n",
       "                               open     high     low   close   volume   \n",
       "time                                                                    \n",
       "2020-09-15 00:00:00-04:00  118.2900  118.425  118.29  118.38  3635547   \n",
       "2020-09-16 00:00:00-04:00  118.5300  118.530  118.20  118.32  5190572   \n",
       "2020-09-17 00:00:00-04:00  118.4201  118.520  118.33  118.36  4263541   \n",
       "2020-09-18 00:00:00-04:00  118.3900  118.440  118.18  118.24  4548578   \n",
       "2020-09-21 00:00:00-04:00  118.4100  118.420  118.25  118.26  4787684   \n",
       "\n",
       "                                           SPY                              \\\n",
       "                          daily_return    open      high       low   close   \n",
       "time                                                                         \n",
       "2020-09-15 00:00:00-04:00          NaN  341.12  342.0200  338.4683  340.15   \n",
       "2020-09-16 00:00:00-04:00    -0.000507  341.51  343.0600  338.5200  338.81   \n",
       "2020-09-17 00:00:00-04:00     0.000338  333.56  337.6996  332.9910  335.86   \n",
       "2020-09-18 00:00:00-04:00    -0.001014  335.37  335.4900  327.9700  330.69   \n",
       "2020-09-21 00:00:00-04:00     0.000169  325.70  327.0900  321.7300  327.00   \n",
       "\n",
       "                                                  \n",
       "                             volume daily_return  \n",
       "time                                              \n",
       "2020-09-15 00:00:00-04:00  43980284          NaN  \n",
       "2020-09-16 00:00:00-04:00  70521698    -0.003939  \n",
       "2020-09-17 00:00:00-04:00  80778657    -0.008707  \n",
       "2020-09-18 00:00:00-04:00  88780313    -0.015393  \n",
       "2020-09-21 00:00:00-04:00  86591719    -0.011158  "
      ]
     },
     "execution_count": 125,
     "metadata": {},
     "output_type": "execute_result"
    }
   ],
   "source": [
    "# Configure a Monte Carlo simulation to forecast 10 years cumulative returns\n",
    "# The weights should be split 20% to AGG and 80% to SPY.\n",
    "# Run 500 samples.\n",
    "# YOUR CODE HERE\n",
    "ten_year_simulation=MCSimulation(\n",
    "    portfolio_data = prices_df,\n",
    "    weights = [.80,.20],\n",
    "    num_simulation = 500,\n",
    "    num_trading_days = 252*10\n",
    ")\n",
    "# Review the simulation input data\n",
    "# YOUR CODE HERE\n",
    "ten_year_simulation.portfolio_data.head()"
   ]
  },
  {
   "cell_type": "code",
   "execution_count": 126,
   "metadata": {},
   "outputs": [
    {
     "name": "stdout",
     "output_type": "stream",
     "text": [
      "Running Monte Carlo simulation number 0.\n",
      "Running Monte Carlo simulation number 10.\n",
      "Running Monte Carlo simulation number 20.\n",
      "Running Monte Carlo simulation number 30.\n",
      "Running Monte Carlo simulation number 40.\n",
      "Running Monte Carlo simulation number 50.\n",
      "Running Monte Carlo simulation number 60.\n",
      "Running Monte Carlo simulation number 70.\n",
      "Running Monte Carlo simulation number 80.\n",
      "Running Monte Carlo simulation number 90.\n",
      "Running Monte Carlo simulation number 100.\n",
      "Running Monte Carlo simulation number 110.\n",
      "Running Monte Carlo simulation number 120.\n",
      "Running Monte Carlo simulation number 130.\n",
      "Running Monte Carlo simulation number 140.\n",
      "Running Monte Carlo simulation number 150.\n",
      "Running Monte Carlo simulation number 160.\n",
      "Running Monte Carlo simulation number 170.\n",
      "Running Monte Carlo simulation number 180.\n",
      "Running Monte Carlo simulation number 190.\n",
      "Running Monte Carlo simulation number 200.\n",
      "Running Monte Carlo simulation number 210.\n",
      "Running Monte Carlo simulation number 220.\n",
      "Running Monte Carlo simulation number 230.\n",
      "Running Monte Carlo simulation number 240.\n",
      "Running Monte Carlo simulation number 250.\n",
      "Running Monte Carlo simulation number 260.\n",
      "Running Monte Carlo simulation number 270.\n",
      "Running Monte Carlo simulation number 280.\n",
      "Running Monte Carlo simulation number 290.\n",
      "Running Monte Carlo simulation number 300.\n",
      "Running Monte Carlo simulation number 310.\n",
      "Running Monte Carlo simulation number 320.\n",
      "Running Monte Carlo simulation number 330.\n",
      "Running Monte Carlo simulation number 340.\n",
      "Running Monte Carlo simulation number 350.\n",
      "Running Monte Carlo simulation number 360.\n",
      "Running Monte Carlo simulation number 370.\n",
      "Running Monte Carlo simulation number 380.\n",
      "Running Monte Carlo simulation number 390.\n",
      "Running Monte Carlo simulation number 400.\n",
      "Running Monte Carlo simulation number 410.\n",
      "Running Monte Carlo simulation number 420.\n",
      "Running Monte Carlo simulation number 430.\n",
      "Running Monte Carlo simulation number 440.\n",
      "Running Monte Carlo simulation number 450.\n",
      "Running Monte Carlo simulation number 460.\n",
      "Running Monte Carlo simulation number 470.\n",
      "Running Monte Carlo simulation number 480.\n",
      "Running Monte Carlo simulation number 490.\n"
     ]
    },
    {
     "data": {
      "text/html": [
       "<div>\n",
       "<style scoped>\n",
       "    .dataframe tbody tr th:only-of-type {\n",
       "        vertical-align: middle;\n",
       "    }\n",
       "\n",
       "    .dataframe tbody tr th {\n",
       "        vertical-align: top;\n",
       "    }\n",
       "\n",
       "    .dataframe thead th {\n",
       "        text-align: right;\n",
       "    }\n",
       "</style>\n",
       "<table border=\"1\" class=\"dataframe\">\n",
       "  <thead>\n",
       "    <tr style=\"text-align: right;\">\n",
       "      <th></th>\n",
       "      <th>0</th>\n",
       "      <th>1</th>\n",
       "      <th>2</th>\n",
       "      <th>3</th>\n",
       "      <th>4</th>\n",
       "      <th>5</th>\n",
       "      <th>6</th>\n",
       "      <th>7</th>\n",
       "      <th>8</th>\n",
       "      <th>9</th>\n",
       "      <th>...</th>\n",
       "      <th>490</th>\n",
       "      <th>491</th>\n",
       "      <th>492</th>\n",
       "      <th>493</th>\n",
       "      <th>494</th>\n",
       "      <th>495</th>\n",
       "      <th>496</th>\n",
       "      <th>497</th>\n",
       "      <th>498</th>\n",
       "      <th>499</th>\n",
       "    </tr>\n",
       "  </thead>\n",
       "  <tbody>\n",
       "    <tr>\n",
       "      <th>0</th>\n",
       "      <td>1.000000</td>\n",
       "      <td>1.000000</td>\n",
       "      <td>1.000000</td>\n",
       "      <td>1.000000</td>\n",
       "      <td>1.000000</td>\n",
       "      <td>1.000000</td>\n",
       "      <td>1.000000</td>\n",
       "      <td>1.000000</td>\n",
       "      <td>1.000000</td>\n",
       "      <td>1.000000</td>\n",
       "      <td>...</td>\n",
       "      <td>1.000000</td>\n",
       "      <td>1.000000</td>\n",
       "      <td>1.000000</td>\n",
       "      <td>1.000000</td>\n",
       "      <td>1.000000</td>\n",
       "      <td>1.000000</td>\n",
       "      <td>1.000000</td>\n",
       "      <td>1.000000</td>\n",
       "      <td>1.000000</td>\n",
       "      <td>1.000000</td>\n",
       "    </tr>\n",
       "    <tr>\n",
       "      <th>1</th>\n",
       "      <td>0.996634</td>\n",
       "      <td>1.004960</td>\n",
       "      <td>1.002411</td>\n",
       "      <td>1.005223</td>\n",
       "      <td>1.002380</td>\n",
       "      <td>1.000318</td>\n",
       "      <td>1.003353</td>\n",
       "      <td>0.996059</td>\n",
       "      <td>0.998541</td>\n",
       "      <td>0.997546</td>\n",
       "      <td>...</td>\n",
       "      <td>1.002916</td>\n",
       "      <td>1.000881</td>\n",
       "      <td>1.000229</td>\n",
       "      <td>0.997856</td>\n",
       "      <td>0.999678</td>\n",
       "      <td>1.000735</td>\n",
       "      <td>1.000864</td>\n",
       "      <td>0.999260</td>\n",
       "      <td>1.003521</td>\n",
       "      <td>0.999124</td>\n",
       "    </tr>\n",
       "    <tr>\n",
       "      <th>2</th>\n",
       "      <td>0.998669</td>\n",
       "      <td>1.001768</td>\n",
       "      <td>1.004209</td>\n",
       "      <td>1.004462</td>\n",
       "      <td>1.003283</td>\n",
       "      <td>0.994119</td>\n",
       "      <td>1.003078</td>\n",
       "      <td>0.996095</td>\n",
       "      <td>0.998820</td>\n",
       "      <td>1.000741</td>\n",
       "      <td>...</td>\n",
       "      <td>1.003110</td>\n",
       "      <td>1.000565</td>\n",
       "      <td>1.003657</td>\n",
       "      <td>0.992255</td>\n",
       "      <td>1.004614</td>\n",
       "      <td>0.996452</td>\n",
       "      <td>0.998595</td>\n",
       "      <td>0.995872</td>\n",
       "      <td>1.002173</td>\n",
       "      <td>0.997734</td>\n",
       "    </tr>\n",
       "    <tr>\n",
       "      <th>3</th>\n",
       "      <td>0.997374</td>\n",
       "      <td>1.002712</td>\n",
       "      <td>1.004108</td>\n",
       "      <td>1.007779</td>\n",
       "      <td>1.005372</td>\n",
       "      <td>0.995653</td>\n",
       "      <td>1.001451</td>\n",
       "      <td>0.996876</td>\n",
       "      <td>0.998780</td>\n",
       "      <td>1.001355</td>\n",
       "      <td>...</td>\n",
       "      <td>1.002141</td>\n",
       "      <td>0.999765</td>\n",
       "      <td>1.006312</td>\n",
       "      <td>0.996181</td>\n",
       "      <td>1.005346</td>\n",
       "      <td>0.996869</td>\n",
       "      <td>0.996162</td>\n",
       "      <td>0.996524</td>\n",
       "      <td>1.004790</td>\n",
       "      <td>0.998061</td>\n",
       "    </tr>\n",
       "    <tr>\n",
       "      <th>4</th>\n",
       "      <td>0.997802</td>\n",
       "      <td>1.006765</td>\n",
       "      <td>1.001370</td>\n",
       "      <td>1.003540</td>\n",
       "      <td>1.003444</td>\n",
       "      <td>0.994962</td>\n",
       "      <td>0.998423</td>\n",
       "      <td>0.999229</td>\n",
       "      <td>1.001188</td>\n",
       "      <td>1.000853</td>\n",
       "      <td>...</td>\n",
       "      <td>1.005105</td>\n",
       "      <td>0.996893</td>\n",
       "      <td>1.005653</td>\n",
       "      <td>0.998828</td>\n",
       "      <td>1.004687</td>\n",
       "      <td>0.998688</td>\n",
       "      <td>0.997837</td>\n",
       "      <td>1.000137</td>\n",
       "      <td>1.001348</td>\n",
       "      <td>0.996761</td>\n",
       "    </tr>\n",
       "    <tr>\n",
       "      <th>...</th>\n",
       "      <td>...</td>\n",
       "      <td>...</td>\n",
       "      <td>...</td>\n",
       "      <td>...</td>\n",
       "      <td>...</td>\n",
       "      <td>...</td>\n",
       "      <td>...</td>\n",
       "      <td>...</td>\n",
       "      <td>...</td>\n",
       "      <td>...</td>\n",
       "      <td>...</td>\n",
       "      <td>...</td>\n",
       "      <td>...</td>\n",
       "      <td>...</td>\n",
       "      <td>...</td>\n",
       "      <td>...</td>\n",
       "      <td>...</td>\n",
       "      <td>...</td>\n",
       "      <td>...</td>\n",
       "      <td>...</td>\n",
       "      <td>...</td>\n",
       "    </tr>\n",
       "    <tr>\n",
       "      <th>2516</th>\n",
       "      <td>1.513170</td>\n",
       "      <td>1.566760</td>\n",
       "      <td>1.619095</td>\n",
       "      <td>1.918945</td>\n",
       "      <td>1.483800</td>\n",
       "      <td>1.489255</td>\n",
       "      <td>1.457310</td>\n",
       "      <td>1.571871</td>\n",
       "      <td>1.392884</td>\n",
       "      <td>1.597681</td>\n",
       "      <td>...</td>\n",
       "      <td>1.330906</td>\n",
       "      <td>1.498997</td>\n",
       "      <td>1.520308</td>\n",
       "      <td>1.447049</td>\n",
       "      <td>1.659008</td>\n",
       "      <td>1.537995</td>\n",
       "      <td>1.656474</td>\n",
       "      <td>1.620239</td>\n",
       "      <td>1.285628</td>\n",
       "      <td>1.513659</td>\n",
       "    </tr>\n",
       "    <tr>\n",
       "      <th>2517</th>\n",
       "      <td>1.514404</td>\n",
       "      <td>1.567661</td>\n",
       "      <td>1.624549</td>\n",
       "      <td>1.914748</td>\n",
       "      <td>1.484683</td>\n",
       "      <td>1.490718</td>\n",
       "      <td>1.455118</td>\n",
       "      <td>1.573975</td>\n",
       "      <td>1.395029</td>\n",
       "      <td>1.594441</td>\n",
       "      <td>...</td>\n",
       "      <td>1.331314</td>\n",
       "      <td>1.501337</td>\n",
       "      <td>1.524922</td>\n",
       "      <td>1.445482</td>\n",
       "      <td>1.654735</td>\n",
       "      <td>1.531831</td>\n",
       "      <td>1.659825</td>\n",
       "      <td>1.612808</td>\n",
       "      <td>1.287106</td>\n",
       "      <td>1.518587</td>\n",
       "    </tr>\n",
       "    <tr>\n",
       "      <th>2518</th>\n",
       "      <td>1.506321</td>\n",
       "      <td>1.563194</td>\n",
       "      <td>1.627404</td>\n",
       "      <td>1.907194</td>\n",
       "      <td>1.487514</td>\n",
       "      <td>1.494256</td>\n",
       "      <td>1.448009</td>\n",
       "      <td>1.572540</td>\n",
       "      <td>1.389758</td>\n",
       "      <td>1.596917</td>\n",
       "      <td>...</td>\n",
       "      <td>1.331048</td>\n",
       "      <td>1.498573</td>\n",
       "      <td>1.521437</td>\n",
       "      <td>1.452609</td>\n",
       "      <td>1.658735</td>\n",
       "      <td>1.525537</td>\n",
       "      <td>1.660043</td>\n",
       "      <td>1.614498</td>\n",
       "      <td>1.285197</td>\n",
       "      <td>1.518606</td>\n",
       "    </tr>\n",
       "    <tr>\n",
       "      <th>2519</th>\n",
       "      <td>1.504974</td>\n",
       "      <td>1.560753</td>\n",
       "      <td>1.631682</td>\n",
       "      <td>1.920125</td>\n",
       "      <td>1.493232</td>\n",
       "      <td>1.494493</td>\n",
       "      <td>1.447794</td>\n",
       "      <td>1.572310</td>\n",
       "      <td>1.389643</td>\n",
       "      <td>1.599817</td>\n",
       "      <td>...</td>\n",
       "      <td>1.331410</td>\n",
       "      <td>1.499316</td>\n",
       "      <td>1.523807</td>\n",
       "      <td>1.456402</td>\n",
       "      <td>1.657281</td>\n",
       "      <td>1.522007</td>\n",
       "      <td>1.665592</td>\n",
       "      <td>1.611887</td>\n",
       "      <td>1.283063</td>\n",
       "      <td>1.516273</td>\n",
       "    </tr>\n",
       "    <tr>\n",
       "      <th>2520</th>\n",
       "      <td>1.506858</td>\n",
       "      <td>1.567792</td>\n",
       "      <td>1.626530</td>\n",
       "      <td>1.906091</td>\n",
       "      <td>1.502480</td>\n",
       "      <td>1.490089</td>\n",
       "      <td>1.442089</td>\n",
       "      <td>1.573145</td>\n",
       "      <td>1.391129</td>\n",
       "      <td>1.605645</td>\n",
       "      <td>...</td>\n",
       "      <td>1.336293</td>\n",
       "      <td>1.503077</td>\n",
       "      <td>1.527663</td>\n",
       "      <td>1.458010</td>\n",
       "      <td>1.659799</td>\n",
       "      <td>1.520512</td>\n",
       "      <td>1.668876</td>\n",
       "      <td>1.612899</td>\n",
       "      <td>1.277319</td>\n",
       "      <td>1.507037</td>\n",
       "    </tr>\n",
       "  </tbody>\n",
       "</table>\n",
       "<p>2521 rows × 500 columns</p>\n",
       "</div>"
      ],
      "text/plain": [
       "           0         1         2         3         4         5         6    \\\n",
       "0     1.000000  1.000000  1.000000  1.000000  1.000000  1.000000  1.000000   \n",
       "1     0.996634  1.004960  1.002411  1.005223  1.002380  1.000318  1.003353   \n",
       "2     0.998669  1.001768  1.004209  1.004462  1.003283  0.994119  1.003078   \n",
       "3     0.997374  1.002712  1.004108  1.007779  1.005372  0.995653  1.001451   \n",
       "4     0.997802  1.006765  1.001370  1.003540  1.003444  0.994962  0.998423   \n",
       "...        ...       ...       ...       ...       ...       ...       ...   \n",
       "2516  1.513170  1.566760  1.619095  1.918945  1.483800  1.489255  1.457310   \n",
       "2517  1.514404  1.567661  1.624549  1.914748  1.484683  1.490718  1.455118   \n",
       "2518  1.506321  1.563194  1.627404  1.907194  1.487514  1.494256  1.448009   \n",
       "2519  1.504974  1.560753  1.631682  1.920125  1.493232  1.494493  1.447794   \n",
       "2520  1.506858  1.567792  1.626530  1.906091  1.502480  1.490089  1.442089   \n",
       "\n",
       "           7         8         9    ...       490       491       492  \\\n",
       "0     1.000000  1.000000  1.000000  ...  1.000000  1.000000  1.000000   \n",
       "1     0.996059  0.998541  0.997546  ...  1.002916  1.000881  1.000229   \n",
       "2     0.996095  0.998820  1.000741  ...  1.003110  1.000565  1.003657   \n",
       "3     0.996876  0.998780  1.001355  ...  1.002141  0.999765  1.006312   \n",
       "4     0.999229  1.001188  1.000853  ...  1.005105  0.996893  1.005653   \n",
       "...        ...       ...       ...  ...       ...       ...       ...   \n",
       "2516  1.571871  1.392884  1.597681  ...  1.330906  1.498997  1.520308   \n",
       "2517  1.573975  1.395029  1.594441  ...  1.331314  1.501337  1.524922   \n",
       "2518  1.572540  1.389758  1.596917  ...  1.331048  1.498573  1.521437   \n",
       "2519  1.572310  1.389643  1.599817  ...  1.331410  1.499316  1.523807   \n",
       "2520  1.573145  1.391129  1.605645  ...  1.336293  1.503077  1.527663   \n",
       "\n",
       "           493       494       495       496       497       498       499  \n",
       "0     1.000000  1.000000  1.000000  1.000000  1.000000  1.000000  1.000000  \n",
       "1     0.997856  0.999678  1.000735  1.000864  0.999260  1.003521  0.999124  \n",
       "2     0.992255  1.004614  0.996452  0.998595  0.995872  1.002173  0.997734  \n",
       "3     0.996181  1.005346  0.996869  0.996162  0.996524  1.004790  0.998061  \n",
       "4     0.998828  1.004687  0.998688  0.997837  1.000137  1.001348  0.996761  \n",
       "...        ...       ...       ...       ...       ...       ...       ...  \n",
       "2516  1.447049  1.659008  1.537995  1.656474  1.620239  1.285628  1.513659  \n",
       "2517  1.445482  1.654735  1.531831  1.659825  1.612808  1.287106  1.518587  \n",
       "2518  1.452609  1.658735  1.525537  1.660043  1.614498  1.285197  1.518606  \n",
       "2519  1.456402  1.657281  1.522007  1.665592  1.611887  1.283063  1.516273  \n",
       "2520  1.458010  1.659799  1.520512  1.668876  1.612899  1.277319  1.507037  \n",
       "\n",
       "[2521 rows x 500 columns]"
      ]
     },
     "execution_count": 126,
     "metadata": {},
     "output_type": "execute_result"
    }
   ],
   "source": [
    "# Run the Monte Carlo simulation to forecast 10 years cumulative returns\n",
    "# YOUR CODE HERE\n",
    "ten_year_simulation.calc_cumulative_return()"
   ]
  },
  {
   "cell_type": "code",
   "execution_count": 129,
   "metadata": {},
   "outputs": [
    {
     "data": {
      "text/plain": [
       "<AxesSubplot:title={'center':'500 Simulations of Cumulative Portfolio Return Trajectories Over the Next 2520 Trading Days.'}>"
      ]
     },
     "execution_count": 129,
     "metadata": {},
     "output_type": "execute_result"
    },
    {
     "data": {
      "image/png": "[encoded data removed]",
      "text/plain": [
       "<Figure size 432x288 with 1 Axes>"
      ]
     },
     "metadata": {
      "needs_background": "light"
     },
     "output_type": "display_data"
    }
   ],
   "source": [
    "# Visualize the 10-year Monte Carlo simulation by creating an\n",
    "# overlay line plot\n",
    "# YOUR CODE HERE\n",
    "ten_year_simulation.plot_simulation()"
   ]
  },
  {
   "cell_type": "code",
   "execution_count": 130,
   "metadata": {},
   "outputs": [
    {
     "data": {
      "text/plain": [
       "<AxesSubplot:title={'center':'Distribution of Final Cumuluative Returns Across All 500 Simulations'}, ylabel='Frequency'>"
      ]
     },
     "execution_count": 130,
     "metadata": {},
     "output_type": "execute_result"
    },
    {
     "data": {
      "image/png": "[encoded data removed]",
      "text/plain": [
       "<Figure size 432x288 with 1 Axes>"
      ]
     },
     "metadata": {
      "needs_background": "light"
     },
     "output_type": "display_data"
    }
   ],
   "source": [
    "# Visualize the probability distribution of the 10-year Monte Carlo simulation \n",
    "# by plotting a histogram\n",
    "# YOUR CODE HERE\n",
    "ten_year_simulation.plot_distribution()"
   ]
  },
  {
   "cell_type": "code",
   "execution_count": 131,
   "metadata": {},
   "outputs": [
    {
     "data": {
      "text/plain": [
       "count           500.000000\n",
       "mean              1.495718\n",
       "std               0.181591\n",
       "min               1.036082\n",
       "25%               1.372628\n",
       "50%               1.484393\n",
       "75%               1.605202\n",
       "max               2.106712\n",
       "95% CI Lower      1.147609\n",
       "95% CI Upper      1.872507\n",
       "Name: 2520, dtype: float64"
      ]
     },
     "execution_count": 131,
     "metadata": {},
     "output_type": "execute_result"
    }
   ],
   "source": [
    "# Generate summary statistics from the 10-year Monte Carlo simulation results\n",
    "# Save the results as a variable\n",
    "# YOUR CODE HERE\n",
    "\n",
    "ten_year_simulation_summary= ten_year_simulation.summarize_cumulative_return()\n",
    "# Review the 10-year Monte Carlo summary statistics\n",
    "# YOUR CODE HERE\n",
    "ten_year_simulation_summary"
   ]
  },
  {
   "cell_type": "markdown",
   "metadata": {},
   "source": [
    "### Answer the following questions:"
   ]
  },
  {
   "cell_type": "markdown",
   "metadata": {},
   "source": [
    "#### Question: Using the current value of only the stock and bond portion of the member's portfolio and the summary statistics that you generated from the new Monte Carlo simulation, what are the lower and upper bounds for the expected value of the portfolio (with the new weights) with a 95% confidence interval?"
   ]
  },
  {
   "cell_type": "code",
   "execution_count": 132,
   "metadata": {},
   "outputs": [
    {
     "name": "stdout",
     "output_type": "stream",
     "text": [
      "The current balance of the stock and bond of the the portfolio is $65988.8.\n"
     ]
    }
   ],
   "source": [
    "# Print the current balance of the stock and bond portion of the members portfolio\n",
    "# YOUR CODE HERE\n",
    "print(f\"The current balance of the stock and bond of the the portfolio is ${total_stocks_bonds}.\")"
   ]
  },
  {
   "cell_type": "code",
   "execution_count": 133,
   "metadata": {},
   "outputs": [
    {
     "name": "stdout",
     "output_type": "stream",
     "text": [
      "The lower and upper bounds for the expected value of the portfolio with a 95% confidence interval is in the rage of $75729.35 and $123564.47.\n"
     ]
    }
   ],
   "source": [
    "# Use the lower and upper `95%` confidence intervals to calculate the range of the possible outcomes for the current stock/bond portfolio\n",
    "ci_lower_ten_cumulative_return = ten_year_simulation_summary[8] * total_stocks_bonds# YOUR CODE HERE\n",
    "ci_upper_ten_cumulative_return = ten_year_simulation_summary[9] * total_stocks_bonds# YOUR CODE HERE\n",
    "\n",
    "# Print the result of your calculations\n",
    "# YOUR CODE HERE\n",
    "print(f\"The lower and upper bounds for the expected value of the portfolio with a 95% confidence interval is in the rage of ${ci_lower_ten_cumulative_return:.2f} and ${ci_upper_ten_cumulative_return:.2f}.\")\n"
   ]
  },
  {
   "cell_type": "markdown",
   "metadata": {},
   "source": [
    "#### Question: Will weighting the portfolio more heavily to stocks allow the credit union members to retire after only 10 years?"
   ]
  },
  {
   "cell_type": "raw",
   "metadata": {},
   "source": [
    "**Answer** # Weighting the portfolio more heavily to stocks wouldn't allow the credit union members to retire after only 10 years. "
   ]
  },
  {
   "cell_type": "code",
   "execution_count": null,
   "metadata": {},
   "outputs": [],
   "source": []
  }
 ],
 "metadata": {
  "kernelspec": {
   "display_name": "Python 3",
   "language": "python",
   "name": "python3"
  },
  "language_info": {
   "codemirror_mode": {
    "name": "ipython",
    "version": 3
   },
   "file_extension": ".py",
   "mimetype": "text/x-python",
   "name": "python",
   "nbconvert_exporter": "python",
   "pygments_lexer": "ipython3",
   "version": "3.8.5"
  }
 },
 "nbformat": 4,
 "nbformat_minor": 4
}
